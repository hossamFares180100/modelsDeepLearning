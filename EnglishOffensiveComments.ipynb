{
 "cells": [
  {
   "cell_type": "markdown",
   "metadata": {
    "_cell_guid": "b1076dfc-b9ad-4769-8c92-a6c4dae69d19",
    "_uuid": "8f2839f25d086af736a60e9eeb907d3b93b6e0e5"
   },
   "source": [
    "# Project: The Offensive and Toxic Comments Detection Project\n",
    "\n",
    "## Table of Contents\n",
    "\n",
    "- <a href='#intro'>1. Project Overview and Objectives</a> \n",
    "    - <a href='#dataset'>1.1. Data Set Description</a>\n",
    "- <a href=\"#wrangling\">2. Data Wrangling</a>\n",
    "    - <a href='#wranglingEnglish'>2.1.  English DataSet</a>\n",
    "- <a href=\"#eda\">3. Exploratory Data Analysis</a>\n",
    "     - <a href='#explorEnglish'>3.1.  English DataSet</a>\n",
    "- <a href='#pre'>4. Preprocessing DataSet</a>\n",
    "    - <a href='#preEnglish'>4.1.  English DataSet</a>\n",
    "- <a href='#rnn'>5. RNN Model</a>\n",
    "    - <a href='#apply'>5.1. Apply</a>\n",
    "    - <a href='#build'>5.2. Model Building</a>\n",
    "        - <a href='#buildEnglish'>5.2.1.  English DataSet</a>\n",
    "    - <a href='#perf'>5.3. Model Performance</a>\n",
    "        - <a href='#preformancenglish'>5.3.1.  English DataSet</a>\n",
    "    - <a href='#tensor'>5.4. Convert Model Keras To TensorFlow</a>\n",
    "        - <a href='#convertenglish'>5.4.1.  English DataSet</a>\n",
    "- <a href='#concl'>. Conclusions</a>"
   ]
  },
  {
   "cell_type": "markdown",
   "metadata": {},
   "source": [
    "<a id='intro'></a>\n",
    "## Project Overview and Objectives\n",
    "\n",
    "***\n",
    "Posting offensive or abusive content on social media have been a serious concern in recent years, and the usage of bad words and aggressive words has been increased significantly, The young population is playing a major role in it. Cyberbullying affects more than half of the young population using social media. Insults in social media websites create negative interactions within the network.  This has created a lot of problems because of the huge popularity and usage of social media sites like Facebook and Twitter. Discussing things you care about can be difficult. The threat of abuse and harassment online means that many people stop expressing themselves and give up on seeking different opinions. so we decided to make our application special so The main motivation lies in the fact that our model will automate and accelerate the detection of the posted offensive content and toxic comments to improve online conversation. NLP techniques and sentiment analysis with the help of Machine Learning / Deep learning models, is used for analyzing the social comment and identified the aggressive effect of an individual or a group. An effective model acts as the core component in a final prototype system that can detect cyberbullying on social media.\n",
    "Developing a system to detect online offensive language is very difficult and important to the health and the security of online users. Studies have shown that cyberhate, online harassment and other misuses of technology are on the rise. Particularly during the global Coronavirus pandemic in 2020, 35% reported online harassment related to their identity-based characteristics, which is a 3% increase over 2019.\n",
    "Applying advanced techniques from the Natural Language Processing (NLP) field to support the development of an online hate free community is a critical task for social justice. Transfer learning enhances the performance of the model by allowing the transfer of knowledge from one domain or one dataset to others that have not been seen before, thus, supporting the model to be more generalizable. In our project.\n",
    "***"
   ]
  },
  {
   "cell_type": "markdown",
   "metadata": {},
   "source": [
    "<a id='dataset'></a>\n",
    "## Data Set Description"
   ]
  },
  {
   "cell_type": "markdown",
   "metadata": {},
   "source": [
    "It conists of two classes:\n",
    "* `Not Offensive` -   encoded as `0`\n",
    "* `Offensive` -   encoded as `1`"
   ]
  },
  {
   "cell_type": "code",
   "execution_count": 1,
   "metadata": {
    "execution": {
     "iopub.execute_input": "2022-06-01T22:30:30.643077Z",
     "iopub.status.busy": "2022-06-01T22:30:30.642459Z",
     "iopub.status.idle": "2022-06-01T22:30:36.085769Z",
     "shell.execute_reply": "2022-06-01T22:30:36.084538Z",
     "shell.execute_reply.started": "2022-06-01T22:30:30.643035Z"
    }
   },
   "outputs": [
    {
     "data": {
      "text/plain": [
       "''"
      ]
     },
     "execution_count": 1,
     "metadata": {},
     "output_type": "execute_result"
    }
   ],
   "source": [
    "plt.title(\"Show Common Words\")\n",
    " "
   ]
  },
  {
   "cell_type": "markdown",
   "metadata": {},
   "source": [
    "# Importing libraries"
   ]
  },
  {
   "cell_type": "code",
   "execution_count": 2,
   "metadata": {
    "execution": {
     "iopub.execute_input": "2022-06-01T20:47:53.546311Z",
     "iopub.status.busy": "2022-06-01T20:47:53.545945Z",
     "iopub.status.idle": "2022-06-01T20:48:03.326803Z",
     "shell.execute_reply": "2022-06-01T20:48:03.325896Z",
     "shell.execute_reply.started": "2022-06-01T20:47:53.546283Z"
    }
   },
   "outputs": [],
   "source": [
    "import numpy as np \n",
    "import pandas as pd \n",
    "import os\n",
    "import seaborn as sns\n",
    "import re\n",
    "import nltk\n",
    "from nltk.corpus import stopwords\n",
    "import string\n",
    "from wordcloud import WordCloud, STOPWORDS\n",
    "import matplotlib.pyplot as plt\n",
    "import pandas as pd\n",
    "from sklearn.model_selection import train_test_split\n",
    "from sklearn.feature_extraction.text import CountVectorizer\n",
    "from sklearn.feature_extraction.text import TfidfTransformer\n",
    "from sklearn.naive_bayes import MultinomialNB\n",
    "from sklearn.metrics import classification_report\n",
    "from sklearn.metrics import confusion_matrix\n",
    "import xgboost as xgb\n",
    "from keras.models import Model\n",
    "from keras.layers import LSTM, Activation, Dense, Dropout, Input, Embedding,SpatialDropout1D\n",
    "from tensorflow.keras.optimizers import RMSprop\n",
    "from keras.preprocessing.text import Tokenizer\n",
    "from keras.preprocessing import sequence\n",
    "from tensorflow.keras.utils import to_categorical\n",
    "from keras.models import Sequential\n",
    "from keras.callbacks import ModelCheckpoint ,ReduceLROnPlateau ,EarlyStopping\n",
    "from tensorflow import keras\n",
    "from tensorflow import lite\n",
    "import json\n",
    "import pickle\n",
    "from wordcloud import WordCloud\n",
    "from sklearn.metrics import confusion_matrix,precision_score,recall_score,classification_report, accuracy_score\n",
    "import pandas as pd\n",
    "import numpy as np\n",
    "import re\n",
    "import string\n",
    "import os\n",
    "from sklearn.ensemble import RandomForestClassifier\n",
    "from sklearn.pipeline import Pipeline\n",
    "from sklearn.model_selection import GridSearchCV\n",
    "from sklearn.svm import SVC\n",
    "from sklearn.neighbors import KNeighborsClassifier\n",
    "from sklearn.ensemble import AdaBoostClassifier\n",
    "from sklearn.ensemble import GradientBoostingClassifier\n",
    "from sklearn.ensemble import BaggingClassifier\n",
    "import codecs\n",
    "from bidi.algorithm import get_display\n",
    "from nltk.tokenize import word_tokenize\n",
    "from sklearn.feature_extraction.text import TfidfVectorizer\n",
    "from sklearn.ensemble import RandomForestClassifier\n",
    "from sklearn import tree\n",
    "from sklearn.naive_bayes import GaussianNB\n",
    "from sklearn.metrics import accuracy_score\n",
    "from sklearn.neighbors import KNeighborsClassifier\n",
    "from sklearn.svm import SVC\n",
    "import pickle\n",
    "from sklearn.linear_model import LogisticRegression\n",
    "from sklearn.naive_bayes import MultinomialNB\n",
    "#from xgboost import XGBClassifier\n",
    "from sklearn.neural_network import MLPClassifier"
   ]
  },
  {
   "cell_type": "markdown",
   "metadata": {},
   "source": [
    "<a id='wrangling'></a>\n",
    "## Data Wrangling\n",
    "\n",
    "### General Properties"
   ]
  },
  {
   "cell_type": "markdown",
   "metadata": {},
   "source": [
    "<a id='wranglingEnglish'></a>\n",
    "### English DataSet"
   ]
  },
  {
   "cell_type": "markdown",
   "metadata": {},
   "source": [
    "#### Gathering Data"
   ]
  },
  {
   "cell_type": "code",
   "execution_count": 3,
   "metadata": {
    "execution": {
     "iopub.execute_input": "2022-06-01T20:48:03.330052Z",
     "iopub.status.busy": "2022-06-01T20:48:03.328501Z",
     "iopub.status.idle": "2022-06-01T20:48:03.542021Z",
     "shell.execute_reply": "2022-06-01T20:48:03.541044Z",
     "shell.execute_reply.started": "2022-06-01T20:48:03.330009Z"
    }
   },
   "outputs": [],
   "source": [
    "df_twitter = pd.read_csv(\"../input/englishoffensivedataset/train.csv\")\n",
    "df_offensive = pd.read_csv(\"../input/englishoffensivedataset/labeled_data.csv\")"
   ]
  },
  {
   "cell_type": "markdown",
   "metadata": {},
   "source": [
    "#### View information of data"
   ]
  },
  {
   "cell_type": "code",
   "execution_count": 4,
   "metadata": {
    "execution": {
     "iopub.execute_input": "2022-06-01T20:48:03.544112Z",
     "iopub.status.busy": "2022-06-01T20:48:03.543635Z",
     "iopub.status.idle": "2022-06-01T20:48:03.581245Z",
     "shell.execute_reply": "2022-06-01T20:48:03.580060Z",
     "shell.execute_reply.started": "2022-06-01T20:48:03.544055Z"
    }
   },
   "outputs": [
    {
     "name": "stdout",
     "output_type": "stream",
     "text": [
      "<class 'pandas.core.frame.DataFrame'>\n",
      "RangeIndex: 31962 entries, 0 to 31961\n",
      "Data columns (total 3 columns):\n",
      " #   Column  Non-Null Count  Dtype \n",
      "---  ------  --------------  ----- \n",
      " 0   id      31962 non-null  int64 \n",
      " 1   label   31962 non-null  int64 \n",
      " 2   tweet   31962 non-null  object\n",
      "dtypes: int64(2), object(1)\n",
      "memory usage: 749.2+ KB\n"
     ]
    }
   ],
   "source": [
    "df_twitter.info()"
   ]
  },
  {
   "cell_type": "code",
   "execution_count": 5,
   "metadata": {
    "execution": {
     "iopub.execute_input": "2022-06-01T20:48:03.584274Z",
     "iopub.status.busy": "2022-06-01T20:48:03.583796Z",
     "iopub.status.idle": "2022-06-01T20:48:03.601861Z",
     "shell.execute_reply": "2022-06-01T20:48:03.600779Z",
     "shell.execute_reply.started": "2022-06-01T20:48:03.584237Z"
    }
   },
   "outputs": [
    {
     "name": "stdout",
     "output_type": "stream",
     "text": [
      "<class 'pandas.core.frame.DataFrame'>\n",
      "RangeIndex: 24783 entries, 0 to 24782\n",
      "Data columns (total 7 columns):\n",
      " #   Column              Non-Null Count  Dtype \n",
      "---  ------              --------------  ----- \n",
      " 0   Unnamed: 0          24783 non-null  int64 \n",
      " 1   count               24783 non-null  int64 \n",
      " 2   hate_speech         24783 non-null  int64 \n",
      " 3   offensive_language  24783 non-null  int64 \n",
      " 4   neither             24783 non-null  int64 \n",
      " 5   class               24783 non-null  int64 \n",
      " 6   tweet               24783 non-null  object\n",
      "dtypes: int64(6), object(1)\n",
      "memory usage: 1.3+ MB\n"
     ]
    }
   ],
   "source": [
    "df_offensive.info()"
   ]
  },
  {
   "cell_type": "markdown",
   "metadata": {},
   "source": [
    "#### View missing data"
   ]
  },
  {
   "cell_type": "code",
   "execution_count": 6,
   "metadata": {
    "execution": {
     "iopub.execute_input": "2022-06-01T20:48:03.604321Z",
     "iopub.status.busy": "2022-06-01T20:48:03.603544Z",
     "iopub.status.idle": "2022-06-01T20:48:03.619641Z",
     "shell.execute_reply": "2022-06-01T20:48:03.618186Z",
     "shell.execute_reply.started": "2022-06-01T20:48:03.604269Z"
    }
   },
   "outputs": [
    {
     "name": "stdout",
     "output_type": "stream",
     "text": [
      "Twitter\n"
     ]
    },
    {
     "data": {
      "text/plain": [
       "id       0\n",
       "label    0\n",
       "tweet    0\n",
       "dtype: int64"
      ]
     },
     "execution_count": 6,
     "metadata": {},
     "output_type": "execute_result"
    }
   ],
   "source": [
    "print('Twitter')\n",
    "df_twitter.isnull().sum()"
   ]
  },
  {
   "cell_type": "code",
   "execution_count": 7,
   "metadata": {
    "execution": {
     "iopub.execute_input": "2022-06-01T20:48:03.622731Z",
     "iopub.status.busy": "2022-06-01T20:48:03.622184Z",
     "iopub.status.idle": "2022-06-01T20:48:03.635383Z",
     "shell.execute_reply": "2022-06-01T20:48:03.633930Z",
     "shell.execute_reply.started": "2022-06-01T20:48:03.622687Z"
    }
   },
   "outputs": [
    {
     "name": "stdout",
     "output_type": "stream",
     "text": [
      "Offensive\n"
     ]
    },
    {
     "data": {
      "text/plain": [
       "Unnamed: 0            0\n",
       "count                 0\n",
       "hate_speech           0\n",
       "offensive_language    0\n",
       "neither               0\n",
       "class                 0\n",
       "tweet                 0\n",
       "dtype: int64"
      ]
     },
     "execution_count": 7,
     "metadata": {},
     "output_type": "execute_result"
    }
   ],
   "source": [
    "print('Offensive')\n",
    "df_offensive.isnull().sum()"
   ]
  },
  {
   "cell_type": "markdown",
   "metadata": {},
   "source": [
    "#### View duplicated data"
   ]
  },
  {
   "cell_type": "code",
   "execution_count": 8,
   "metadata": {
    "execution": {
     "iopub.execute_input": "2022-06-01T20:48:03.638261Z",
     "iopub.status.busy": "2022-06-01T20:48:03.637449Z",
     "iopub.status.idle": "2022-06-01T20:48:03.670289Z",
     "shell.execute_reply": "2022-06-01T20:48:03.669279Z",
     "shell.execute_reply.started": "2022-06-01T20:48:03.638218Z"
    }
   },
   "outputs": [
    {
     "data": {
      "text/plain": [
       "0"
      ]
     },
     "execution_count": 8,
     "metadata": {},
     "output_type": "execute_result"
    }
   ],
   "source": [
    "sum(df_twitter.duplicated())"
   ]
  },
  {
   "cell_type": "code",
   "execution_count": 9,
   "metadata": {
    "execution": {
     "iopub.execute_input": "2022-06-01T20:48:03.672448Z",
     "iopub.status.busy": "2022-06-01T20:48:03.671932Z",
     "iopub.status.idle": "2022-06-01T20:48:03.699026Z",
     "shell.execute_reply": "2022-06-01T20:48:03.697954Z",
     "shell.execute_reply.started": "2022-06-01T20:48:03.672392Z"
    }
   },
   "outputs": [
    {
     "data": {
      "text/plain": [
       "0"
      ]
     },
     "execution_count": 9,
     "metadata": {},
     "output_type": "execute_result"
    }
   ],
   "source": [
    "sum(df_offensive.duplicated())"
   ]
  },
  {
   "cell_type": "markdown",
   "metadata": {},
   "source": [
    "#### View  DataSet"
   ]
  },
  {
   "cell_type": "code",
   "execution_count": 10,
   "metadata": {
    "execution": {
     "iopub.execute_input": "2022-06-01T20:48:03.700853Z",
     "iopub.status.busy": "2022-06-01T20:48:03.700361Z",
     "iopub.status.idle": "2022-06-01T20:48:03.719452Z",
     "shell.execute_reply": "2022-06-01T20:48:03.718616Z",
     "shell.execute_reply.started": "2022-06-01T20:48:03.700816Z"
    }
   },
   "outputs": [
    {
     "data": {
      "text/html": [
       "<div>\n",
       "<style scoped>\n",
       "    .dataframe tbody tr th:only-of-type {\n",
       "        vertical-align: middle;\n",
       "    }\n",
       "\n",
       "    .dataframe tbody tr th {\n",
       "        vertical-align: top;\n",
       "    }\n",
       "\n",
       "    .dataframe thead th {\n",
       "        text-align: right;\n",
       "    }\n",
       "</style>\n",
       "<table border=\"1\" class=\"dataframe\">\n",
       "  <thead>\n",
       "    <tr style=\"text-align: right;\">\n",
       "      <th></th>\n",
       "      <th>id</th>\n",
       "      <th>label</th>\n",
       "      <th>tweet</th>\n",
       "    </tr>\n",
       "  </thead>\n",
       "  <tbody>\n",
       "    <tr>\n",
       "      <th>0</th>\n",
       "      <td>1</td>\n",
       "      <td>0</td>\n",
       "      <td>@user when a father is dysfunctional and is s...</td>\n",
       "    </tr>\n",
       "    <tr>\n",
       "      <th>1</th>\n",
       "      <td>2</td>\n",
       "      <td>0</td>\n",
       "      <td>@user @user thanks for #lyft credit i can't us...</td>\n",
       "    </tr>\n",
       "    <tr>\n",
       "      <th>2</th>\n",
       "      <td>3</td>\n",
       "      <td>0</td>\n",
       "      <td>bihday your majesty</td>\n",
       "    </tr>\n",
       "    <tr>\n",
       "      <th>3</th>\n",
       "      <td>4</td>\n",
       "      <td>0</td>\n",
       "      <td>#model   i love u take with u all the time in ...</td>\n",
       "    </tr>\n",
       "    <tr>\n",
       "      <th>4</th>\n",
       "      <td>5</td>\n",
       "      <td>0</td>\n",
       "      <td>factsguide: society now    #motivation</td>\n",
       "    </tr>\n",
       "  </tbody>\n",
       "</table>\n",
       "</div>"
      ],
      "text/plain": [
       "   id  label                                              tweet\n",
       "0   1      0   @user when a father is dysfunctional and is s...\n",
       "1   2      0  @user @user thanks for #lyft credit i can't us...\n",
       "2   3      0                                bihday your majesty\n",
       "3   4      0  #model   i love u take with u all the time in ...\n",
       "4   5      0             factsguide: society now    #motivation"
      ]
     },
     "execution_count": 10,
     "metadata": {},
     "output_type": "execute_result"
    }
   ],
   "source": [
    "df_twitter.head(5)"
   ]
  },
  {
   "cell_type": "code",
   "execution_count": 11,
   "metadata": {
    "execution": {
     "iopub.execute_input": "2022-06-01T20:48:03.726010Z",
     "iopub.status.busy": "2022-06-01T20:48:03.725218Z",
     "iopub.status.idle": "2022-06-01T20:48:03.739223Z",
     "shell.execute_reply": "2022-06-01T20:48:03.738456Z",
     "shell.execute_reply.started": "2022-06-01T20:48:03.725962Z"
    }
   },
   "outputs": [
    {
     "data": {
      "text/html": [
       "<div>\n",
       "<style scoped>\n",
       "    .dataframe tbody tr th:only-of-type {\n",
       "        vertical-align: middle;\n",
       "    }\n",
       "\n",
       "    .dataframe tbody tr th {\n",
       "        vertical-align: top;\n",
       "    }\n",
       "\n",
       "    .dataframe thead th {\n",
       "        text-align: right;\n",
       "    }\n",
       "</style>\n",
       "<table border=\"1\" class=\"dataframe\">\n",
       "  <thead>\n",
       "    <tr style=\"text-align: right;\">\n",
       "      <th></th>\n",
       "      <th>Unnamed: 0</th>\n",
       "      <th>count</th>\n",
       "      <th>hate_speech</th>\n",
       "      <th>offensive_language</th>\n",
       "      <th>neither</th>\n",
       "      <th>class</th>\n",
       "      <th>tweet</th>\n",
       "    </tr>\n",
       "  </thead>\n",
       "  <tbody>\n",
       "    <tr>\n",
       "      <th>0</th>\n",
       "      <td>0</td>\n",
       "      <td>3</td>\n",
       "      <td>0</td>\n",
       "      <td>0</td>\n",
       "      <td>3</td>\n",
       "      <td>2</td>\n",
       "      <td>!!! RT @mayasolovely: As a woman you shouldn't...</td>\n",
       "    </tr>\n",
       "    <tr>\n",
       "      <th>1</th>\n",
       "      <td>1</td>\n",
       "      <td>3</td>\n",
       "      <td>0</td>\n",
       "      <td>3</td>\n",
       "      <td>0</td>\n",
       "      <td>1</td>\n",
       "      <td>!!!!! RT @mleew17: boy dats cold...tyga dwn ba...</td>\n",
       "    </tr>\n",
       "    <tr>\n",
       "      <th>2</th>\n",
       "      <td>2</td>\n",
       "      <td>3</td>\n",
       "      <td>0</td>\n",
       "      <td>3</td>\n",
       "      <td>0</td>\n",
       "      <td>1</td>\n",
       "      <td>!!!!!!! RT @UrKindOfBrand Dawg!!!! RT @80sbaby...</td>\n",
       "    </tr>\n",
       "    <tr>\n",
       "      <th>3</th>\n",
       "      <td>3</td>\n",
       "      <td>3</td>\n",
       "      <td>0</td>\n",
       "      <td>2</td>\n",
       "      <td>1</td>\n",
       "      <td>1</td>\n",
       "      <td>!!!!!!!!! RT @C_G_Anderson: @viva_based she lo...</td>\n",
       "    </tr>\n",
       "    <tr>\n",
       "      <th>4</th>\n",
       "      <td>4</td>\n",
       "      <td>6</td>\n",
       "      <td>0</td>\n",
       "      <td>6</td>\n",
       "      <td>0</td>\n",
       "      <td>1</td>\n",
       "      <td>!!!!!!!!!!!!! RT @ShenikaRoberts: The shit you...</td>\n",
       "    </tr>\n",
       "  </tbody>\n",
       "</table>\n",
       "</div>"
      ],
      "text/plain": [
       "   Unnamed: 0  count  hate_speech  offensive_language  neither  class  \\\n",
       "0           0      3            0                   0        3      2   \n",
       "1           1      3            0                   3        0      1   \n",
       "2           2      3            0                   3        0      1   \n",
       "3           3      3            0                   2        1      1   \n",
       "4           4      6            0                   6        0      1   \n",
       "\n",
       "                                               tweet  \n",
       "0  !!! RT @mayasolovely: As a woman you shouldn't...  \n",
       "1  !!!!! RT @mleew17: boy dats cold...tyga dwn ba...  \n",
       "2  !!!!!!! RT @UrKindOfBrand Dawg!!!! RT @80sbaby...  \n",
       "3  !!!!!!!!! RT @C_G_Anderson: @viva_based she lo...  \n",
       "4  !!!!!!!!!!!!! RT @ShenikaRoberts: The shit you...  "
      ]
     },
     "execution_count": 11,
     "metadata": {},
     "output_type": "execute_result"
    }
   ],
   "source": [
    "df_offensive.head(5)"
   ]
  },
  {
   "cell_type": "markdown",
   "metadata": {},
   "source": [
    "<a id='pre'></a>\n",
    "## Preprocessing DataSet"
   ]
  },
  {
   "cell_type": "markdown",
   "metadata": {},
   "source": [
    "<a id='preEnglish'></a>\n",
    "### English DataSet"
   ]
  },
  {
   "cell_type": "code",
   "execution_count": 12,
   "metadata": {
    "execution": {
     "iopub.execute_input": "2022-06-01T20:48:03.741319Z",
     "iopub.status.busy": "2022-06-01T20:48:03.740747Z",
     "iopub.status.idle": "2022-06-01T20:48:03.764704Z",
     "shell.execute_reply": "2022-06-01T20:48:03.763649Z",
     "shell.execute_reply.started": "2022-06-01T20:48:03.741287Z"
    }
   },
   "outputs": [
    {
     "data": {
      "text/plain": [
       "array([2, 1, 0])"
      ]
     },
     "execution_count": 12,
     "metadata": {},
     "output_type": "execute_result"
    }
   ],
   "source": [
    "df_twitter.drop('id',axis=1,inplace=True)\n",
    "df_offensive.drop(['Unnamed: 0','count','hate_speech','offensive_language','neither'],axis=1,inplace=True)\n",
    "df_offensive['class'].unique()"
   ]
  },
  {
   "cell_type": "code",
   "execution_count": 13,
   "metadata": {
    "execution": {
     "iopub.execute_input": "2022-06-01T20:48:04.764748Z",
     "iopub.status.busy": "2022-06-01T20:48:04.764304Z",
     "iopub.status.idle": "2022-06-01T20:48:04.775584Z",
     "shell.execute_reply": "2022-06-01T20:48:04.774612Z",
     "shell.execute_reply.started": "2022-06-01T20:48:04.764715Z"
    }
   },
   "outputs": [
    {
     "name": "stderr",
     "output_type": "stream",
     "text": [
      "/opt/conda/lib/python3.7/site-packages/ipykernel_launcher.py:1: SettingWithCopyWarning: \n",
      "A value is trying to be set on a copy of a slice from a DataFrame.\n",
      "Try using .loc[row_indexer,col_indexer] = value instead\n",
      "\n",
      "See the caveats in the documentation: https://pandas.pydata.org/pandas-docs/stable/user_guide/indexing.html#returning-a-view-versus-a-copy\n",
      "  \"\"\"Entry point for launching an IPython kernel.\n"
     ]
    },
    {
     "data": {
      "text/plain": [
       "array([2, 1, 0])"
      ]
     },
     "execution_count": 13,
     "metadata": {},
     "output_type": "execute_result"
    }
   ],
   "source": [
    "df_offensive[df_offensive['class']==0]['class']=1\n",
    "df_offensive['class'].unique()"
   ]
  },
  {
   "cell_type": "code",
   "execution_count": 14,
   "metadata": {
    "execution": {
     "iopub.execute_input": "2022-06-01T20:48:04.953866Z",
     "iopub.status.busy": "2022-06-01T20:48:04.953038Z",
     "iopub.status.idle": "2022-06-01T20:48:04.962293Z",
     "shell.execute_reply": "2022-06-01T20:48:04.961136Z",
     "shell.execute_reply.started": "2022-06-01T20:48:04.953829Z"
    }
   },
   "outputs": [
    {
     "data": {
      "text/plain": [
       "array([2, 1])"
      ]
     },
     "execution_count": 14,
     "metadata": {},
     "output_type": "execute_result"
    }
   ],
   "source": [
    "df_offensive[\"class\"].replace({0: 1}, inplace=True)\n",
    "df_offensive['class'].unique()"
   ]
  },
  {
   "cell_type": "code",
   "execution_count": 15,
   "metadata": {
    "execution": {
     "iopub.execute_input": "2022-06-01T20:48:05.261803Z",
     "iopub.status.busy": "2022-06-01T20:48:05.261214Z",
     "iopub.status.idle": "2022-06-01T20:48:05.520664Z",
     "shell.execute_reply": "2022-06-01T20:48:05.519620Z",
     "shell.execute_reply.started": "2022-06-01T20:48:05.261760Z"
    }
   },
   "outputs": [
    {
     "name": "stderr",
     "output_type": "stream",
     "text": [
      "/opt/conda/lib/python3.7/site-packages/seaborn/_decorators.py:43: FutureWarning: Pass the following variable as a keyword arg: x. From version 0.12, the only valid positional argument will be `data`, and passing other arguments without an explicit keyword will result in an error or misinterpretation.\n",
      "  FutureWarning\n"
     ]
    },
    {
     "data": {
      "image/png": "[encoded data removed]",
      "text/plain": [
       "<Figure size 432x288 with 1 Axes>"
      ]
     },
     "metadata": {
      "needs_background": "light"
     },
     "output_type": "display_data"
    }
   ],
   "source": [
    "sns.countplot('class',data=df_offensive);"
   ]
  },
  {
   "cell_type": "code",
   "execution_count": 16,
   "metadata": {
    "execution": {
     "iopub.execute_input": "2022-06-01T20:48:05.525299Z",
     "iopub.status.busy": "2022-06-01T20:48:05.522790Z",
     "iopub.status.idle": "2022-06-01T20:48:05.537439Z",
     "shell.execute_reply": "2022-06-01T20:48:05.535510Z",
     "shell.execute_reply.started": "2022-06-01T20:48:05.525246Z"
    }
   },
   "outputs": [
    {
     "data": {
      "text/plain": [
       "array([0, 1])"
      ]
     },
     "execution_count": 16,
     "metadata": {},
     "output_type": "execute_result"
    }
   ],
   "source": [
    "df_offensive[\"class\"].replace({2: 0}, inplace=True)\n",
    "df_offensive['class'].unique()"
   ]
  },
  {
   "cell_type": "code",
   "execution_count": 17,
   "metadata": {
    "execution": {
     "iopub.execute_input": "2022-06-01T20:48:05.540547Z",
     "iopub.status.busy": "2022-06-01T20:48:05.539554Z",
     "iopub.status.idle": "2022-06-01T20:48:05.748779Z",
     "shell.execute_reply": "2022-06-01T20:48:05.747794Z",
     "shell.execute_reply.started": "2022-06-01T20:48:05.540485Z"
    }
   },
   "outputs": [
    {
     "name": "stderr",
     "output_type": "stream",
     "text": [
      "/opt/conda/lib/python3.7/site-packages/seaborn/_decorators.py:43: FutureWarning: Pass the following variable as a keyword arg: x. From version 0.12, the only valid positional argument will be `data`, and passing other arguments without an explicit keyword will result in an error or misinterpretation.\n",
      "  FutureWarning\n"
     ]
    },
    {
     "data": {
      "image/png": "[encoded data removed]",
      "text/plain": [
       "<Figure size 432x288 with 1 Axes>"
      ]
     },
     "metadata": {
      "needs_background": "light"
     },
     "output_type": "display_data"
    }
   ],
   "source": [
    "sns.countplot('class',data=df_offensive);"
   ]
  },
  {
   "cell_type": "code",
   "execution_count": 18,
   "metadata": {
    "execution": {
     "iopub.execute_input": "2022-06-01T20:48:05.750907Z",
     "iopub.status.busy": "2022-06-01T20:48:05.750506Z",
     "iopub.status.idle": "2022-06-01T20:48:05.756311Z",
     "shell.execute_reply": "2022-06-01T20:48:05.755309Z",
     "shell.execute_reply.started": "2022-06-01T20:48:05.750875Z"
    }
   },
   "outputs": [],
   "source": [
    "df_offensive.rename(columns ={'class':'label'}, inplace = True)"
   ]
  },
  {
   "cell_type": "code",
   "execution_count": 19,
   "metadata": {
    "execution": {
     "iopub.execute_input": "2022-06-01T20:48:05.758047Z",
     "iopub.status.busy": "2022-06-01T20:48:05.757703Z",
     "iopub.status.idle": "2022-06-01T20:48:05.776083Z",
     "shell.execute_reply": "2022-06-01T20:48:05.774639Z",
     "shell.execute_reply.started": "2022-06-01T20:48:05.758017Z"
    }
   },
   "outputs": [
    {
     "data": {
      "text/plain": [
       "'!!!!!!!!!!!!!!!!!!\"@T_Madison_x: The shit just blows me..claim you so faithful and down for somebody but still fucking with hoes! &#128514;&#128514;&#128514;\"'"
      ]
     },
     "execution_count": 19,
     "metadata": {},
     "output_type": "execute_result"
    }
   ],
   "source": [
    "df_offensive.iloc[5]['tweet']"
   ]
  },
  {
   "cell_type": "markdown",
   "metadata": {},
   "source": [
    "##### We will concat two DataSet ( df_twitter , df_offensive )"
   ]
  },
  {
   "cell_type": "code",
   "execution_count": 20,
   "metadata": {
    "execution": {
     "iopub.execute_input": "2022-06-01T20:48:07.050133Z",
     "iopub.status.busy": "2022-06-01T20:48:07.049242Z",
     "iopub.status.idle": "2022-06-01T20:48:07.058088Z",
     "shell.execute_reply": "2022-06-01T20:48:07.056995Z",
     "shell.execute_reply.started": "2022-06-01T20:48:07.050094Z"
    }
   },
   "outputs": [],
   "source": [
    "df = pd.concat([df_twitter,df_offensive])"
   ]
  },
  {
   "cell_type": "markdown",
   "metadata": {},
   "source": [
    "#### View information of data"
   ]
  },
  {
   "cell_type": "markdown",
   "metadata": {},
   "source": [
    "<a id='eda'></a>\n",
    "## Exploratory Data Analysis"
   ]
  },
  {
   "cell_type": "markdown",
   "metadata": {
    "execution": {
     "iopub.execute_input": "2022-02-26T19:02:20.333949Z",
     "iopub.status.busy": "2022-02-26T19:02:20.333084Z",
     "iopub.status.idle": "2022-02-26T19:02:20.370246Z",
     "shell.execute_reply": "2022-02-26T19:02:20.368759Z",
     "shell.execute_reply.started": "2022-02-26T19:02:20.333853Z"
    }
   },
   "source": [
    "<a id='explorEnglish'></a>\n",
    "### English DataSet"
   ]
  },
  {
   "cell_type": "code",
   "execution_count": 59,
   "metadata": {
    "execution": {
     "iopub.execute_input": "2022-06-01T22:29:28.020283Z",
     "iopub.status.busy": "2022-06-01T22:29:28.019869Z",
     "iopub.status.idle": "2022-06-01T22:29:28.030916Z",
     "shell.execute_reply": "2022-06-01T22:29:28.029733Z",
     "shell.execute_reply.started": "2022-06-01T22:29:28.020254Z"
    }
   },
   "outputs": [],
   "source": [
    "stopword=set(stopwords.words('english'))\n",
    "def clean_text(text):\n",
    "    text = text.replace('user','')\n",
    "    text = str(text).lower()\n",
    "    text = re.sub('\\[.*?\\]', '', text)\n",
    "    text = re.sub('https?://\\S+|www\\.\\S+', '', text)\n",
    "    text = re.sub('<.*?>+', '', text)\n",
    "    text = re.sub('[%s]' % re.escape(string.punctuation), '', text)\n",
    "    text = re.sub('\\n', '', text)\n",
    "    text = re.sub('\\w*\\d\\w*', '', text)\n",
    "    text = [word for word in text.split(' ') if word not in stopword]\n",
    "    text=\" \".join(text)\n",
    "    return text"
   ]
  },
  {
   "cell_type": "code",
   "execution_count": 60,
   "metadata": {
    "execution": {
     "iopub.execute_input": "2022-06-01T22:29:30.448204Z",
     "iopub.status.busy": "2022-06-01T22:29:30.447830Z",
     "iopub.status.idle": "2022-06-01T22:29:31.545333Z",
     "shell.execute_reply": "2022-06-01T22:29:31.543915Z",
     "shell.execute_reply.started": "2022-06-01T22:29:30.448176Z"
    }
   },
   "outputs": [],
   "source": [
    "text_tweet = df['tweet'].apply(clean_text)"
   ]
  },
  {
   "cell_type": "code",
   "execution_count": null,
   "metadata": {
    "execution": {
     "iopub.execute_input": "2022-06-01T22:29:34.083831Z",
     "iopub.status.busy": "2022-06-01T22:29:34.083182Z",
     "iopub.status.idle": "2022-06-01T22:29:39.556477Z",
     "shell.execute_reply": "2022-06-01T22:29:39.555498Z",
     "shell.execute_reply.started": "2022-06-01T22:29:34.083796Z"
    }
   },
   "outputs": [],
   "source": [
    "unique_string=(\" \").join(text_tweet)\n",
    "#create and generate a word cloud image\n",
    "wordcloud = WordCloud(width=800,height=600,min_font_size=14).generate(unique_string)\n",
    "#display the generated image\n",
    "plt.figure(figsize=(15,15))\n",
    "plt.title(\"Show Common Words\", fontsize=40) \n",
    "plt.imshow(wordcloud,interpolation='bilinear')\n",
    "plt.axis(\"off\")\n",
    "plt.show()\n",
    "wordcloud.to_file('intro.png')"
   ]
  },
  {
   "cell_type": "code",
   "execution_count": 24,
   "metadata": {
    "execution": {
     "iopub.execute_input": "2022-06-01T20:48:15.094491Z",
     "iopub.status.busy": "2022-06-01T20:48:15.093965Z",
     "iopub.status.idle": "2022-06-01T20:48:15.274255Z",
     "shell.execute_reply": "2022-06-01T20:48:15.273464Z",
     "shell.execute_reply.started": "2022-06-01T20:48:15.094449Z"
    }
   },
   "outputs": [
    {
     "name": "stderr",
     "output_type": "stream",
     "text": [
      "/opt/conda/lib/python3.7/site-packages/seaborn/_decorators.py:43: FutureWarning: Pass the following variable as a keyword arg: x. From version 0.12, the only valid positional argument will be `data`, and passing other arguments without an explicit keyword will result in an error or misinterpretation.\n",
      "  FutureWarning\n"
     ]
    },
    {
     "data": {
      "image/png": "[encoded data removed]",
      "text/plain": [
       "<Figure size 432x288 with 1 Axes>"
      ]
     },
     "metadata": {
      "needs_background": "light"
     },
     "output_type": "display_data"
    }
   ],
   "source": [
    "plt.title(\"Visual between label and Recurrence\", fontsize=10) \n",
    "sns.countplot('label',data=df_twitter);"
   ]
  },
  {
   "cell_type": "code",
   "execution_count": 25,
   "metadata": {
    "execution": {
     "iopub.execute_input": "2022-06-01T20:48:15.276724Z",
     "iopub.status.busy": "2022-06-01T20:48:15.276148Z",
     "iopub.status.idle": "2022-06-01T20:48:15.466823Z",
     "shell.execute_reply": "2022-06-01T20:48:15.465264Z",
     "shell.execute_reply.started": "2022-06-01T20:48:15.276689Z"
    }
   },
   "outputs": [
    {
     "name": "stderr",
     "output_type": "stream",
     "text": [
      "/opt/conda/lib/python3.7/site-packages/seaborn/_decorators.py:43: FutureWarning: Pass the following variable as a keyword arg: x. From version 0.12, the only valid positional argument will be `data`, and passing other arguments without an explicit keyword will result in an error or misinterpretation.\n",
      "  FutureWarning\n"
     ]
    },
    {
     "data": {
      "image/png": "[encoded data removed]",
      "text/plain": [
       "<Figure size 432x288 with 1 Axes>"
      ]
     },
     "metadata": {
      "needs_background": "light"
     },
     "output_type": "display_data"
    }
   ],
   "source": [
    "plt.title(\"Visual between label and Recurrence\", fontsize=10) \n",
    "sns.countplot('label',data=df);"
   ]
  },
  {
   "cell_type": "markdown",
   "metadata": {
    "execution": {
     "iopub.execute_input": "2022-02-26T15:10:59.742282Z",
     "iopub.status.busy": "2022-02-26T15:10:59.741996Z",
     "iopub.status.idle": "2022-02-26T15:10:59.747431Z",
     "shell.execute_reply": "2022-02-26T15:10:59.746546Z",
     "shell.execute_reply.started": "2022-02-26T15:10:59.742225Z"
    }
   },
   "source": [
    "<a id='pre'></a>\n",
    "## Preprocessing Text For Model"
   ]
  },
  {
   "cell_type": "markdown",
   "metadata": {},
   "source": [
    "<a id='prepromodelEnglish'></a>\n",
    "### English DataSet"
   ]
  },
  {
   "cell_type": "code",
   "execution_count": 26,
   "metadata": {
    "execution": {
     "iopub.execute_input": "2022-06-01T20:48:15.469022Z",
     "iopub.status.busy": "2022-06-01T20:48:15.468500Z",
     "iopub.status.idle": "2022-06-01T20:48:15.476548Z",
     "shell.execute_reply": "2022-06-01T20:48:15.475277Z",
     "shell.execute_reply.started": "2022-06-01T20:48:15.468978Z"
    }
   },
   "outputs": [],
   "source": [
    "stemmer = nltk.SnowballStemmer(\"english\")\n",
    "stopword=set(stopwords.words('english'))"
   ]
  },
  {
   "cell_type": "code",
   "execution_count": 27,
   "metadata": {
    "execution": {
     "iopub.execute_input": "2022-06-01T20:48:15.478992Z",
     "iopub.status.busy": "2022-06-01T20:48:15.478198Z",
     "iopub.status.idle": "2022-06-01T20:48:15.491978Z",
     "shell.execute_reply": "2022-06-01T20:48:15.491032Z",
     "shell.execute_reply.started": "2022-06-01T20:48:15.478944Z"
    }
   },
   "outputs": [],
   "source": [
    "from nltk.stem import WordNetLemmatizer\n",
    "lemmatizer = WordNetLemmatizer()\n",
    "\n",
    "def clean_text(text):\n",
    "    text = str(text).lower()\n",
    "    text = re.sub('\\[.*?\\]', '', text)\n",
    "    text = re.sub('https?://\\S+|www\\.\\S+', '', text)\n",
    "    text = re.sub('<.*?>+', '', text)\n",
    "    text = re.sub('[%s]' % re.escape(string.punctuation), '', text)\n",
    "    text = re.sub('\\n', '', text)\n",
    "    text = re.sub('\\w*\\d\\w*', '', text)\n",
    "    text = [lemmatizer.lemmatize(word) for word in text.split(' ') if word not in stopword]\n",
    "    text=\" \".join(text)\n",
    "    return text"
   ]
  },
  {
   "cell_type": "code",
   "execution_count": 28,
   "metadata": {
    "execution": {
     "iopub.execute_input": "2022-06-01T20:48:15.494398Z",
     "iopub.status.busy": "2022-06-01T20:48:15.493227Z",
     "iopub.status.idle": "2022-06-01T20:48:21.189648Z",
     "shell.execute_reply": "2022-06-01T20:48:21.188696Z",
     "shell.execute_reply.started": "2022-06-01T20:48:15.494357Z"
    }
   },
   "outputs": [],
   "source": [
    "df['tweet']=df['tweet'].apply(clean_text)"
   ]
  },
  {
   "cell_type": "markdown",
   "metadata": {},
   "source": [
    "#### View  DataSet"
   ]
  },
  {
   "cell_type": "code",
   "execution_count": 29,
   "metadata": {
    "execution": {
     "iopub.execute_input": "2022-06-01T20:48:21.191156Z",
     "iopub.status.busy": "2022-06-01T20:48:21.190826Z",
     "iopub.status.idle": "2022-06-01T20:48:21.198802Z",
     "shell.execute_reply": "2022-06-01T20:48:21.197891Z",
     "shell.execute_reply.started": "2022-06-01T20:48:21.191128Z"
    }
   },
   "outputs": [
    {
     "data": {
      "text/plain": [
       "0     user father dysfunctional selfish drag kid dy...\n",
       "1    user user thanks lyft credit cant use cause do...\n",
       "2                                       bihday majesty\n",
       "3    model   love u take u time urð± ððð...\n",
       "4                     factsguide society    motivation\n",
       "Name: tweet, dtype: object"
      ]
     },
     "execution_count": 29,
     "metadata": {},
     "output_type": "execute_result"
    }
   ],
   "source": [
    "df['tweet'].head(5)"
   ]
  },
  {
   "cell_type": "markdown",
   "metadata": {},
   "source": [
    "<a id='rnn'></a>\n",
    "## RNN Model"
   ]
  },
  {
   "cell_type": "markdown",
   "metadata": {},
   "source": [
    "<a id='apply'></a>\n",
    "## Apply"
   ]
  },
  {
   "cell_type": "markdown",
   "metadata": {},
   "source": [
    "<a id='RNNEnglish'></a>\n",
    "### English DataSet"
   ]
  },
  {
   "cell_type": "code",
   "execution_count": 30,
   "metadata": {
    "execution": {
     "iopub.execute_input": "2022-06-01T20:48:21.201174Z",
     "iopub.status.busy": "2022-06-01T20:48:21.200545Z",
     "iopub.status.idle": "2022-06-01T20:48:21.238092Z",
     "shell.execute_reply": "2022-06-01T20:48:21.237090Z",
     "shell.execute_reply.started": "2022-06-01T20:48:21.201137Z"
    }
   },
   "outputs": [],
   "source": [
    "x=df['tweet']\n",
    "y=df['label']"
   ]
  },
  {
   "cell_type": "code",
   "execution_count": 31,
   "metadata": {
    "execution": {
     "iopub.execute_input": "2022-06-01T20:48:21.241609Z",
     "iopub.status.busy": "2022-06-01T20:48:21.241105Z",
     "iopub.status.idle": "2022-06-01T20:48:21.266628Z",
     "shell.execute_reply": "2022-06-01T20:48:21.264705Z",
     "shell.execute_reply.started": "2022-06-01T20:48:21.241565Z"
    }
   },
   "outputs": [
    {
     "name": "stdout",
     "output_type": "stream",
     "text": [
      "42558 42558\n",
      "14187 14187\n"
     ]
    }
   ],
   "source": [
    "x_trainEN, x_testEN, y_trainEN, y_testEN = train_test_split(x, y, random_state=42)\n",
    "print(len(x_trainEN), len(y_trainEN))\n",
    "print(len(x_testEN), len(y_testEN))"
   ]
  },
  {
   "cell_type": "markdown",
   "metadata": {},
   "source": [
    "### Preprocessing for MultinomialNB with Model Vectorizer"
   ]
  },
  {
   "cell_type": "code",
   "execution_count": 32,
   "metadata": {
    "execution": {
     "iopub.execute_input": "2022-06-01T20:48:21.268654Z",
     "iopub.status.busy": "2022-06-01T20:48:21.268255Z",
     "iopub.status.idle": "2022-06-01T20:48:26.092558Z",
     "shell.execute_reply": "2022-06-01T20:48:26.091588Z",
     "shell.execute_reply.started": "2022-06-01T20:48:21.268624Z"
    }
   },
   "outputs": [],
   "source": [
    "count = CountVectorizer(stop_words='english', ngram_range=(1,5))\n",
    "x_train_vectorizerEN=count.fit_transform(x_trainEN)\n",
    "x_test_vectorizerEN=count.transform(x_testEN)"
   ]
  },
  {
   "cell_type": "markdown",
   "metadata": {},
   "source": [
    "### Preprocessing for MultinomialNB with Model TfIdf"
   ]
  },
  {
   "cell_type": "code",
   "execution_count": 33,
   "metadata": {
    "execution": {
     "iopub.execute_input": "2022-06-01T20:48:26.094581Z",
     "iopub.status.busy": "2022-06-01T20:48:26.093834Z",
     "iopub.status.idle": "2022-06-01T20:48:26.432471Z",
     "shell.execute_reply": "2022-06-01T20:48:26.431386Z",
     "shell.execute_reply.started": "2022-06-01T20:48:26.094512Z"
    }
   },
   "outputs": [],
   "source": [
    "tfidf = TfidfTransformer()\n",
    "x_train_tfidf = tfidf.fit_transform(x_train_vectorizerEN)\n",
    "x_test_tfidf = tfidf.transform(x_test_vectorizerEN)"
   ]
  },
  {
   "cell_type": "markdown",
   "metadata": {},
   "source": [
    "<a id='buildEnglish'></a>\n",
    "## Model Building"
   ]
  },
  {
   "cell_type": "markdown",
   "metadata": {},
   "source": [
    "### MultinomialNB with Model Vectorizer"
   ]
  },
  {
   "cell_type": "code",
   "execution_count": 34,
   "metadata": {
    "execution": {
     "iopub.execute_input": "2022-06-01T20:48:26.434211Z",
     "iopub.status.busy": "2022-06-01T20:48:26.433902Z",
     "iopub.status.idle": "2022-06-01T20:48:26.563665Z",
     "shell.execute_reply": "2022-06-01T20:48:26.562664Z",
     "shell.execute_reply.started": "2022-06-01T20:48:26.434185Z"
    }
   },
   "outputs": [
    {
     "name": "stdout",
     "output_type": "stream",
     "text": [
      "[[7870  583]\n",
      " [ 436 5298]]\n",
      "              precision    recall  f1-score   support\n",
      "\n",
      "           0       0.95      0.93      0.94      8453\n",
      "           1       0.90      0.92      0.91      5734\n",
      "\n",
      "    accuracy                           0.93     14187\n",
      "   macro avg       0.92      0.93      0.93     14187\n",
      "weighted avg       0.93      0.93      0.93     14187\n",
      "\n"
     ]
    }
   ],
   "source": [
    "model_vectorizer= MultinomialNB().fit(x_train_vectorizerEN, y_trainEN)\n",
    "prediction_vectorizer=model_vectorizer.predict(x_test_vectorizerEN)\n",
    "print(confusion_matrix(y_testEN,prediction_vectorizer))\n",
    "print (classification_report(y_testEN, prediction_vectorizer))"
   ]
  },
  {
   "cell_type": "markdown",
   "metadata": {},
   "source": [
    "### MultinomialNB with Model TfIdf"
   ]
  },
  {
   "cell_type": "code",
   "execution_count": 35,
   "metadata": {
    "execution": {
     "iopub.execute_input": "2022-06-01T20:48:26.566536Z",
     "iopub.status.busy": "2022-06-01T20:48:26.565718Z",
     "iopub.status.idle": "2022-06-01T20:48:26.682337Z",
     "shell.execute_reply": "2022-06-01T20:48:26.681196Z",
     "shell.execute_reply.started": "2022-06-01T20:48:26.566486Z"
    }
   },
   "outputs": [
    {
     "name": "stdout",
     "output_type": "stream",
     "text": [
      "              precision    recall  f1-score   support\n",
      "\n",
      "           0       0.91      0.97      0.94      8453\n",
      "           1       0.95      0.85      0.90      5734\n",
      "\n",
      "    accuracy                           0.92     14187\n",
      "   macro avg       0.93      0.91      0.92     14187\n",
      "weighted avg       0.92      0.92      0.92     14187\n",
      "\n",
      "[[8189  264]\n",
      " [ 855 4879]]\n"
     ]
    }
   ],
   "source": [
    "model_tfidf= MultinomialNB().fit(x_train_tfidf, y_trainEN)\n",
    "prediction_tfidf=model_tfidf.predict(x_test_tfidf)\n",
    "print (classification_report(y_testEN, prediction_tfidf))\n",
    "print(confusion_matrix(y_testEN,prediction_tfidf))"
   ]
  },
  {
   "cell_type": "markdown",
   "metadata": {},
   "source": [
    "### Using XGBClassifier Model"
   ]
  },
  {
   "cell_type": "code",
   "execution_count": 36,
   "metadata": {
    "execution": {
     "iopub.execute_input": "2022-06-01T20:48:26.684037Z",
     "iopub.status.busy": "2022-06-01T20:48:26.683628Z",
     "iopub.status.idle": "2022-06-01T20:48:26.689326Z",
     "shell.execute_reply": "2022-06-01T20:48:26.688048Z",
     "shell.execute_reply.started": "2022-06-01T20:48:26.684002Z"
    }
   },
   "outputs": [],
   "source": [
    "xgb_model = xgb.XGBClassifier(\n",
    "        learning_rate=0.1,\n",
    "        max_depth=7,\n",
    "        n_estimators=80,\n",
    "        use_label_encoder=False,\n",
    "        eval_metric='auc' )"
   ]
  },
  {
   "cell_type": "markdown",
   "metadata": {},
   "source": [
    "### XGBClassifier with Model Vectorizer"
   ]
  },
  {
   "cell_type": "code",
   "execution_count": 37,
   "metadata": {
    "execution": {
     "iopub.execute_input": "2022-06-01T20:48:26.690951Z",
     "iopub.status.busy": "2022-06-01T20:48:26.690625Z",
     "iopub.status.idle": "2022-06-01T20:48:45.174221Z",
     "shell.execute_reply": "2022-06-01T20:48:45.173055Z",
     "shell.execute_reply.started": "2022-06-01T20:48:26.690925Z"
    }
   },
   "outputs": [
    {
     "name": "stdout",
     "output_type": "stream",
     "text": [
      "[[8383   70]\n",
      " [1016 4718]]\n",
      "              precision    recall  f1-score   support\n",
      "\n",
      "           0       0.89      0.99      0.94      8453\n",
      "           1       0.99      0.82      0.90      5734\n",
      "\n",
      "    accuracy                           0.92     14187\n",
      "   macro avg       0.94      0.91      0.92     14187\n",
      "weighted avg       0.93      0.92      0.92     14187\n",
      "\n"
     ]
    }
   ],
   "source": [
    "xgb_model_vectorizer = xgb_model.fit(x_train_vectorizerEN, y_trainEN)\n",
    "xgb_predictions_vectorizer = xgb_model_vectorizer.predict(x_test_vectorizerEN)\n",
    "print(confusion_matrix(y_testEN,xgb_predictions_vectorizer))\n",
    "print (classification_report(y_testEN, xgb_predictions_vectorizer))"
   ]
  },
  {
   "cell_type": "markdown",
   "metadata": {},
   "source": [
    "### XGBClassifier with Model TfIdf"
   ]
  },
  {
   "cell_type": "code",
   "execution_count": 38,
   "metadata": {
    "execution": {
     "iopub.execute_input": "2022-06-01T20:48:45.176454Z",
     "iopub.status.busy": "2022-06-01T20:48:45.175903Z",
     "iopub.status.idle": "2022-06-01T20:49:09.203802Z",
     "shell.execute_reply": "2022-06-01T20:49:09.202897Z",
     "shell.execute_reply.started": "2022-06-01T20:48:45.176406Z"
    }
   },
   "outputs": [
    {
     "name": "stdout",
     "output_type": "stream",
     "text": [
      "[[8376   77]\n",
      " [1013 4721]]\n",
      "              precision    recall  f1-score   support\n",
      "\n",
      "           0       0.89      0.99      0.94      8453\n",
      "           1       0.98      0.82      0.90      5734\n",
      "\n",
      "    accuracy                           0.92     14187\n",
      "   macro avg       0.94      0.91      0.92     14187\n",
      "weighted avg       0.93      0.92      0.92     14187\n",
      "\n"
     ]
    }
   ],
   "source": [
    "xgb_model = xgb_model.fit(x_train_tfidf, y_trainEN)\n",
    "xgb_predictions = xgb_model.predict(x_test_tfidf)\n",
    "print(confusion_matrix(y_testEN,xgb_predictions))\n",
    "print (classification_report(y_testEN, xgb_predictions))"
   ]
  },
  {
   "cell_type": "markdown",
   "metadata": {},
   "source": [
    "### RandomForest with Model TfIdf"
   ]
  },
  {
   "cell_type": "code",
   "execution_count": 39,
   "metadata": {
    "execution": {
     "iopub.execute_input": "2022-06-01T20:49:09.205905Z",
     "iopub.status.busy": "2022-06-01T20:49:09.205595Z",
     "iopub.status.idle": "2022-06-01T21:05:15.096273Z",
     "shell.execute_reply": "2022-06-01T21:05:15.095558Z",
     "shell.execute_reply.started": "2022-06-01T20:49:09.205879Z"
    }
   },
   "outputs": [
    {
     "name": "stdout",
     "output_type": "stream",
     "text": [
      "RandomForestClassifier()\n",
      "0.9321209558046099\n",
      "              precision    recall  f1-score   support\n",
      "\n",
      "           0       0.93      0.95      0.94      8453\n",
      "           1       0.93      0.90      0.91      5734\n",
      "\n",
      "    accuracy                           0.93     14187\n",
      "   macro avg       0.93      0.93      0.93     14187\n",
      "weighted avg       0.93      0.93      0.93     14187\n",
      "\n"
     ]
    }
   ],
   "source": [
    "rf = RandomForestClassifier()\n",
    "rf_tfidf = rf.fit(x_train_tfidf, y_trainEN)\n",
    "print(rf_tfidf)\n",
    "# calculating accuracy \n",
    "from sklearn.metrics import accuracy_score\n",
    "y_pred=rf.predict(x_test_tfidf)\n",
    "print(accuracy_score(y_testEN, y_pred))\n",
    "# save the model to disk\n",
    "filename = 'RandomForest.sav'\n",
    "pickle.dump(rf, open(filename, 'wb'))\n",
    "print (classification_report(y_testEN, y_pred))"
   ]
  },
  {
   "cell_type": "markdown",
   "metadata": {},
   "source": [
    "### DecisionTreeClassifier"
   ]
  },
  {
   "cell_type": "code",
   "execution_count": 40,
   "metadata": {
    "execution": {
     "iopub.execute_input": "2022-06-01T21:05:15.097966Z",
     "iopub.status.busy": "2022-06-01T21:05:15.097254Z",
     "iopub.status.idle": "2022-06-01T21:09:53.393566Z",
     "shell.execute_reply": "2022-06-01T21:09:53.392264Z",
     "shell.execute_reply.started": "2022-06-01T21:05:15.097935Z"
    }
   },
   "outputs": [
    {
     "name": "stdout",
     "output_type": "stream",
     "text": [
      "DecisionTreeClassifier()\n",
      "0.9204201029111158\n",
      "              precision    recall  f1-score   support\n",
      "\n",
      "           0       0.94      0.93      0.93      8453\n",
      "           1       0.90      0.91      0.90      5734\n",
      "\n",
      "    accuracy                           0.92     14187\n",
      "   macro avg       0.92      0.92      0.92     14187\n",
      "weighted avg       0.92      0.92      0.92     14187\n",
      "\n"
     ]
    }
   ],
   "source": [
    "dr=tree.DecisionTreeClassifier()\n",
    "dr_tfidf = dr.fit(x_train_tfidf, y_trainEN)\n",
    "print(dr_tfidf)\n",
    "# calculating accuracy \n",
    "from sklearn.metrics import accuracy_score\n",
    "y_pred=dr.predict(x_test_tfidf)\n",
    "print(accuracy_score(y_testEN, y_pred))\n",
    "print (classification_report(y_testEN, y_pred))"
   ]
  },
  {
   "cell_type": "markdown",
   "metadata": {},
   "source": [
    "### LogisticRegression"
   ]
  },
  {
   "cell_type": "code",
   "execution_count": 41,
   "metadata": {
    "execution": {
     "iopub.execute_input": "2022-06-01T21:09:53.395194Z",
     "iopub.status.busy": "2022-06-01T21:09:53.394834Z",
     "iopub.status.idle": "2022-06-01T21:09:55.152887Z",
     "shell.execute_reply": "2022-06-01T21:09:55.151826Z",
     "shell.execute_reply.started": "2022-06-01T21:09:53.395165Z"
    }
   },
   "outputs": [
    {
     "name": "stdout",
     "output_type": "stream",
     "text": [
      "LogisticRegression(C=1, solver='liblinear')\n",
      "0.9259180940297456\n",
      "              precision    recall  f1-score   support\n",
      "\n",
      "           0       0.93      0.95      0.94      8453\n",
      "           1       0.92      0.89      0.91      5734\n",
      "\n",
      "    accuracy                           0.93     14187\n",
      "   macro avg       0.92      0.92      0.92     14187\n",
      "weighted avg       0.93      0.93      0.93     14187\n",
      "\n"
     ]
    }
   ],
   "source": [
    "logreg = LogisticRegression(solver='liblinear', C=1)\n",
    "logreg_tfidf = logreg.fit(x_train_tfidf, y_trainEN)\n",
    "print(logreg_tfidf)\n",
    "# calculating accuracy \n",
    "from sklearn.metrics import accuracy_score\n",
    "y_pred=logreg.predict(x_test_tfidf)\n",
    "print(accuracy_score(y_testEN, y_pred))\n",
    "print (classification_report(y_testEN, y_pred))"
   ]
  },
  {
   "cell_type": "markdown",
   "metadata": {},
   "source": [
    "### Support Vector Machine (SVM)"
   ]
  },
  {
   "cell_type": "code",
   "execution_count": 42,
   "metadata": {
    "execution": {
     "iopub.execute_input": "2022-06-01T21:09:55.154783Z",
     "iopub.status.busy": "2022-06-01T21:09:55.154276Z",
     "iopub.status.idle": "2022-06-01T21:29:19.536932Z",
     "shell.execute_reply": "2022-06-01T21:29:19.535729Z",
     "shell.execute_reply.started": "2022-06-01T21:09:55.154737Z"
    }
   },
   "outputs": [
    {
     "name": "stdout",
     "output_type": "stream",
     "text": [
      "SVC(C=5)\n",
      "0.9381123563826038\n",
      "              precision    recall  f1-score   support\n",
      "\n",
      "           0       0.95      0.95      0.95      8453\n",
      "           1       0.93      0.92      0.92      5734\n",
      "\n",
      "    accuracy                           0.94     14187\n",
      "   macro avg       0.94      0.94      0.94     14187\n",
      "weighted avg       0.94      0.94      0.94     14187\n",
      "\n"
     ]
    }
   ],
   "source": [
    "svm = SVC(probability=False,C=5)\n",
    "svm_tfidf = svm.fit(x_train_tfidf, y_trainEN)\n",
    "print(svm_tfidf)\n",
    "# calculating accuracy \n",
    "from sklearn.metrics import accuracy_score\n",
    "y_pred=svm.predict(x_test_tfidf)\n",
    "print(accuracy_score(y_testEN, y_pred))\n",
    "print (classification_report(y_testEN, y_pred))"
   ]
  },
  {
   "cell_type": "markdown",
   "metadata": {
    "execution": {
     "iopub.execute_input": "2022-02-26T15:40:00.568945Z",
     "iopub.status.busy": "2022-02-26T15:40:00.568679Z",
     "iopub.status.idle": "2022-02-26T15:40:00.572667Z",
     "shell.execute_reply": "2022-02-26T15:40:00.571929Z",
     "shell.execute_reply.started": "2022-02-26T15:40:00.568916Z"
    }
   },
   "source": [
    "## LSTM Model"
   ]
  },
  {
   "cell_type": "code",
   "execution_count": 43,
   "metadata": {
    "execution": {
     "iopub.execute_input": "2022-06-01T21:32:54.412094Z",
     "iopub.status.busy": "2022-06-01T21:32:54.411724Z",
     "iopub.status.idle": "2022-06-01T21:32:56.121527Z",
     "shell.execute_reply": "2022-06-01T21:32:56.120715Z",
     "shell.execute_reply.started": "2022-06-01T21:32:54.412067Z"
    }
   },
   "outputs": [],
   "source": [
    "max_words = 50000\n",
    "max_len = 300\n",
    "tokenizerEN = Tokenizer(num_words=max_words)\n",
    "tokenizerEN.fit_on_texts(x_trainEN)\n",
    "sequences = tokenizerEN.texts_to_sequences(x_trainEN)\n",
    "sequences_matrix = sequence.pad_sequences(sequences,maxlen=max_len)"
   ]
  },
  {
   "cell_type": "code",
   "execution_count": 44,
   "metadata": {
    "execution": {
     "iopub.execute_input": "2022-06-01T21:32:56.124152Z",
     "iopub.status.busy": "2022-06-01T21:32:56.122936Z",
     "iopub.status.idle": "2022-06-01T21:32:56.453361Z",
     "shell.execute_reply": "2022-06-01T21:32:56.452307Z",
     "shell.execute_reply.started": "2022-06-01T21:32:56.124096Z"
    }
   },
   "outputs": [
    {
     "name": "stderr",
     "output_type": "stream",
     "text": [
      "2022-06-01 21:32:56.164657: I tensorflow/core/common_runtime/process_util.cc:146] Creating new thread pool with default inter op setting: 2. Tune using inter_op_parallelism_threads for best performance.\n"
     ]
    },
    {
     "name": "stdout",
     "output_type": "stream",
     "text": [
      "Model: \"sequential\"\n",
      "_________________________________________________________________\n",
      "Layer (type)                 Output Shape              Param #   \n",
      "=================================================================\n",
      "embedding (Embedding)        (None, 300, 100)          5000000   \n",
      "_________________________________________________________________\n",
      "spatial_dropout1d (SpatialDr (None, 300, 100)          0         \n",
      "_________________________________________________________________\n",
      "lstm (LSTM)                  (None, 100)               80400     \n",
      "_________________________________________________________________\n",
      "dense (Dense)                (None, 1)                 101       \n",
      "=================================================================\n",
      "Total params: 5,080,501\n",
      "Trainable params: 5,080,501\n",
      "Non-trainable params: 0\n",
      "_________________________________________________________________\n"
     ]
    }
   ],
   "source": [
    "modelEN = Sequential()\n",
    "modelEN.add(Embedding(max_words, 100, input_length=max_len))\n",
    "modelEN.add(SpatialDropout1D(0.2))\n",
    "modelEN.add(LSTM(100, dropout=0.2, recurrent_dropout=0.2))\n",
    "modelEN.add(Dense(1, activation='sigmoid'))\n",
    "modelEN.compile(loss='binary_crossentropy',optimizer=RMSprop(),metrics=['accuracy'])\n",
    "modelEN.summary()"
   ]
  },
  {
   "cell_type": "code",
   "execution_count": 45,
   "metadata": {
    "execution": {
     "iopub.execute_input": "2022-06-01T21:33:00.908003Z",
     "iopub.status.busy": "2022-06-01T21:33:00.907358Z",
     "iopub.status.idle": "2022-06-01T21:33:02.134112Z",
     "shell.execute_reply": "2022-06-01T21:33:02.133126Z",
     "shell.execute_reply.started": "2022-06-01T21:33:00.907963Z"
    }
   },
   "outputs": [
    {
     "data": {
      "image/png": "[encoded data removed]",
      "text/plain": [
       "<IPython.core.display.Image object>"
      ]
     },
     "execution_count": 45,
     "metadata": {},
     "output_type": "execute_result"
    }
   ],
   "source": [
    "from tensorflow.keras.utils import plot_model\n",
    "plot_model(modelAR,show_shapes=True, show_layer_names=True, rankdir='TB', expand_nested=True)"
   ]
  },
  {
   "cell_type": "code",
   "execution_count": 46,
   "metadata": {
    "execution": {
     "iopub.execute_input": "2022-06-01T21:33:08.677022Z",
     "iopub.status.busy": "2022-06-01T21:33:08.676574Z",
     "iopub.status.idle": "2022-06-01T21:33:08.684147Z",
     "shell.execute_reply": "2022-06-01T21:33:08.682889Z",
     "shell.execute_reply.started": "2022-06-01T21:33:08.676984Z"
    }
   },
   "outputs": [],
   "source": [
    "early = EarlyStopping(monitor='val_loss', mode='min', patience=4)\n",
    "\n",
    "learning_rate_reduction = ReduceLROnPlateau(monitor='val_loss', patience = 2, verbose=1,factor=0.3, min_lr=0.000001)\n",
    "\n",
    "checkpoint= ModelCheckpoint(\n",
    "    filepath='./',\n",
    "    save_weights_only=True,\n",
    "    monitor='val_accuracy',\n",
    "    mode='max',\n",
    "    save_best_only=True)\n",
    "\n",
    "callbacks_list = [ early, learning_rate_reduction,checkpoint]"
   ]
  },
  {
   "cell_type": "code",
   "execution_count": 47,
   "metadata": {
    "execution": {
     "iopub.execute_input": "2022-06-01T21:33:09.485871Z",
     "iopub.status.busy": "2022-06-01T21:33:09.485232Z",
     "iopub.status.idle": "2022-06-01T22:00:06.591730Z",
     "shell.execute_reply": "2022-06-01T22:00:06.590539Z",
     "shell.execute_reply.started": "2022-06-01T21:33:09.485823Z"
    }
   },
   "outputs": [
    {
     "name": "stderr",
     "output_type": "stream",
     "text": [
      "2022-06-01 21:33:09.598867: I tensorflow/compiler/mlir/mlir_graph_optimization_pass.cc:185] None of the MLIR Optimization Passes are enabled (registered 2)\n"
     ]
    },
    {
     "name": "stdout",
     "output_type": "stream",
     "text": [
      "Epoch 1/10\n",
      "34/34 [==============================] - 209s 6s/step - loss: 0.5143 - accuracy: 0.7472 - val_loss: 0.3033 - val_accuracy: 0.9020\n",
      "Epoch 2/10\n",
      "34/34 [==============================] - 205s 6s/step - loss: 0.2231 - accuracy: 0.9258 - val_loss: 0.2150 - val_accuracy: 0.9227\n",
      "Epoch 3/10\n",
      "34/34 [==============================] - 203s 6s/step - loss: 0.1396 - accuracy: 0.9527 - val_loss: 0.1645 - val_accuracy: 0.9443\n",
      "Epoch 4/10\n",
      "34/34 [==============================] - 207s 6s/step - loss: 0.1042 - accuracy: 0.9638 - val_loss: 0.1557 - val_accuracy: 0.9447\n",
      "Epoch 5/10\n",
      "34/34 [==============================] - 200s 6s/step - loss: 0.0836 - accuracy: 0.9711 - val_loss: 0.1694 - val_accuracy: 0.9373\n",
      "Epoch 6/10\n",
      "34/34 [==============================] - 199s 6s/step - loss: 0.0706 - accuracy: 0.9761 - val_loss: 0.1688 - val_accuracy: 0.9429\n",
      "\n",
      "Epoch 00006: ReduceLROnPlateau reducing learning rate to 0.0003000000142492354.\n",
      "Epoch 7/10\n",
      "34/34 [==============================] - 198s 6s/step - loss: 0.0551 - accuracy: 0.9823 - val_loss: 0.1799 - val_accuracy: 0.9418\n",
      "Epoch 8/10\n",
      "34/34 [==============================] - 196s 6s/step - loss: 0.0523 - accuracy: 0.9831 - val_loss: 0.1796 - val_accuracy: 0.9394\n",
      "\n",
      "Epoch 00008: ReduceLROnPlateau reducing learning rate to 9.000000427477062e-05.\n"
     ]
    }
   ],
   "source": [
    "batch_size = 1024\n",
    "epochs = 10\n",
    "validation_split = 0.2\n",
    "\n",
    "historyEN = modelEN.fit(sequences_matrix,\n",
    "                  y_trainEN,\n",
    "                  batch_size=batch_size,\n",
    "                  epochs=epochs,\n",
    "                  validation_split=validation_split,\n",
    "                  callbacks=callbacks_list)"
   ]
  },
  {
   "cell_type": "code",
   "execution_count": 48,
   "metadata": {
    "execution": {
     "iopub.execute_input": "2022-06-01T22:11:55.383013Z",
     "iopub.status.busy": "2022-06-01T22:11:55.382447Z",
     "iopub.status.idle": "2022-06-01T22:11:55.760487Z",
     "shell.execute_reply": "2022-06-01T22:11:55.759003Z",
     "shell.execute_reply.started": "2022-06-01T22:11:55.382942Z"
    }
   },
   "outputs": [
    {
     "data": {
      "image/png": "[encoded data removed]",
      "text/plain": [
       "<Figure size 1440x864 with 1 Axes>"
      ]
     },
     "metadata": {
      "needs_background": "light"
     },
     "output_type": "display_data"
    }
   ],
   "source": [
    "pd.DataFrame(historyEN.history).plot(figsize=(20, 12))\n",
    "plt.title('Model Status')\n",
    "plt.ylabel('Value')\n",
    "plt.xlabel('Epoch');"
   ]
  },
  {
   "cell_type": "code",
   "execution_count": 49,
   "metadata": {
    "execution": {
     "iopub.execute_input": "2022-06-01T22:11:58.889292Z",
     "iopub.status.busy": "2022-06-01T22:11:58.888912Z",
     "iopub.status.idle": "2022-06-01T22:11:59.022471Z",
     "shell.execute_reply": "2022-06-01T22:11:59.021554Z",
     "shell.execute_reply.started": "2022-06-01T22:11:58.889264Z"
    }
   },
   "outputs": [],
   "source": [
    "modelEN.save(\"Hate&Abusive_ModelEN.h5\")"
   ]
  },
  {
   "cell_type": "markdown",
   "metadata": {},
   "source": [
    "<a id='perf'></a>\n",
    "## Model Performance"
   ]
  },
  {
   "cell_type": "markdown",
   "metadata": {},
   "source": [
    "<a id='preformancenglish'></a>\n",
    "### English DataSet"
   ]
  },
  {
   "cell_type": "code",
   "execution_count": 50,
   "metadata": {
    "execution": {
     "iopub.execute_input": "2022-06-01T22:12:06.764572Z",
     "iopub.status.busy": "2022-06-01T22:12:06.764163Z",
     "iopub.status.idle": "2022-06-01T22:12:07.008794Z",
     "shell.execute_reply": "2022-06-01T22:12:07.007776Z",
     "shell.execute_reply.started": "2022-06-01T22:12:06.764541Z"
    }
   },
   "outputs": [],
   "source": [
    "test_sequences = tokenizerEN.texts_to_sequences(x_testEN)\n",
    "test_sequences_matrix = sequence.pad_sequences(test_sequences,maxlen=max_len)"
   ]
  },
  {
   "cell_type": "code",
   "execution_count": 51,
   "metadata": {
    "execution": {
     "iopub.execute_input": "2022-06-01T22:12:07.282215Z",
     "iopub.status.busy": "2022-06-01T22:12:07.281102Z",
     "iopub.status.idle": "2022-06-01T22:13:45.494867Z",
     "shell.execute_reply": "2022-06-01T22:13:45.493851Z",
     "shell.execute_reply.started": "2022-06-01T22:12:07.282172Z"
    }
   },
   "outputs": [
    {
     "name": "stdout",
     "output_type": "stream",
     "text": [
      "444/444 [==============================] - 98s 221ms/step - loss: 0.1991 - accuracy: 0.9356\n",
      "The testing accuracy is : 93.55748295783997 %\n"
     ]
    }
   ],
   "source": [
    "test_accu = modelEN.evaluate(test_sequences_matrix,y_testEN)\n",
    "print('The testing accuracy is :',test_accu[1]*100, '%')"
   ]
  },
  {
   "cell_type": "code",
   "execution_count": 52,
   "metadata": {
    "execution": {
     "iopub.execute_input": "2022-06-01T22:13:45.497864Z",
     "iopub.status.busy": "2022-06-01T22:13:45.497112Z",
     "iopub.status.idle": "2022-06-01T22:15:23.251945Z",
     "shell.execute_reply": "2022-06-01T22:15:23.251008Z",
     "shell.execute_reply.started": "2022-06-01T22:13:45.497818Z"
    }
   },
   "outputs": [],
   "source": [
    "lstm_prediction = modelEN.predict(test_sequences_matrix)"
   ]
  },
  {
   "cell_type": "code",
   "execution_count": 53,
   "metadata": {
    "execution": {
     "iopub.execute_input": "2022-06-01T22:15:23.254078Z",
     "iopub.status.busy": "2022-06-01T22:15:23.253648Z",
     "iopub.status.idle": "2022-06-01T22:15:23.284346Z",
     "shell.execute_reply": "2022-06-01T22:15:23.283585Z",
     "shell.execute_reply.started": "2022-06-01T22:15:23.254050Z"
    }
   },
   "outputs": [],
   "source": [
    "y_pred = []\n",
    "for prediction in lstm_prediction:\n",
    "    if prediction[0]<0.5:\n",
    "        y_pred.append(0)\n",
    "    else:\n",
    "        y_pred.append(1)"
   ]
  },
  {
   "cell_type": "code",
   "execution_count": 54,
   "metadata": {
    "execution": {
     "iopub.execute_input": "2022-06-01T22:15:23.286208Z",
     "iopub.status.busy": "2022-06-01T22:15:23.285645Z",
     "iopub.status.idle": "2022-06-01T22:17:05.261620Z",
     "shell.execute_reply": "2022-06-01T22:17:05.260584Z",
     "shell.execute_reply.started": "2022-06-01T22:15:23.286170Z"
    }
   },
   "outputs": [
    {
     "name": "stdout",
     "output_type": "stream",
     "text": [
      "444/444 [==============================] - 102s 229ms/step - loss: 0.1991 - accuracy: 0.9356\n",
      "The testing accuracy is : 93.55748295783997 %\n",
      "confusion matrix :\n",
      " [[8012  441]\n",
      " [ 473 5261]]\n",
      "Precision Score :  0.9355748220201593\n",
      "Recall Score :  0.9355748220201593\n",
      "classification_report :\n",
      "               precision    recall  f1-score   support\n",
      "\n",
      "           0       0.94      0.95      0.95      8453\n",
      "           1       0.92      0.92      0.92      5734\n",
      "\n",
      "    accuracy                           0.94     14187\n",
      "   macro avg       0.93      0.93      0.93     14187\n",
      "weighted avg       0.94      0.94      0.94     14187\n",
      "\n"
     ]
    },
    {
     "name": "stderr",
     "output_type": "stream",
     "text": [
      "/opt/conda/lib/python3.7/site-packages/sklearn/metrics/_classification.py:1375: UserWarning: Note that pos_label (set to 'positive') is ignored when average != 'binary' (got 'micro'). You may use labels=[pos_label] to specify a single positive class.\n",
      "  UserWarning,\n",
      "/opt/conda/lib/python3.7/site-packages/sklearn/metrics/_classification.py:1375: UserWarning: Note that pos_label (set to 'positive') is ignored when average != 'binary' (got 'micro'). You may use labels=[pos_label] to specify a single positive class.\n",
      "  UserWarning,\n"
     ]
    },
    {
     "data": {
      "image/png": "[encoded data removed]",
      "text/plain": [
       "<Figure size 1080x504 with 2 Axes>"
      ]
     },
     "metadata": {
      "needs_background": "light"
     },
     "output_type": "display_data"
    }
   ],
   "source": [
    "y_true = y_testEN\n",
    "\n",
    "plt.figure(figsize = (15,7))\n",
    "\n",
    "cm = pd.DataFrame(data=confusion_matrix(y_true, y_pred, labels=[0, 1]),\n",
    "                  index=[\"Actual Not Offinsive \", \"Actual Offinsive\"],\n",
    "columns=[\"Predicted Not Offinsive\", \"Predicted Offinsive\"])\n",
    "\n",
    "sns.heatmap(cm,annot=True,fmt=\"d\");\n",
    "\n",
    "test_accuracy = modelEN.evaluate(test_sequences_matrix,y_testEN)\n",
    "print('The testing accuracy is :',test_accuracy[1]*100, '%')\n",
    "print('confusion matrix :\\n',confusion_matrix(y_true,y_pred))\n",
    "print(\"Precision Score : \",precision_score(y_true, y_pred, pos_label='positive',average='micro'))\n",
    "print(\"Recall Score : \",recall_score(y_true, y_pred, pos_label='positive',average='micro'))\n",
    "print('classification_report :\\n',classification_report(y_true,y_pred))"
   ]
  },
  {
   "cell_type": "code",
   "execution_count": 55,
   "metadata": {
    "execution": {
     "iopub.execute_input": "2022-06-01T22:17:05.263904Z",
     "iopub.status.busy": "2022-06-01T22:17:05.263559Z",
     "iopub.status.idle": "2022-06-01T22:17:05.443536Z",
     "shell.execute_reply": "2022-06-01T22:17:05.442383Z",
     "shell.execute_reply.started": "2022-06-01T22:17:05.263872Z"
    }
   },
   "outputs": [
    {
     "name": "stdout",
     "output_type": "stream",
     "text": [
      "pred ['hate kill future']\n",
      "pred [[0.8596651]]\n",
      "hate and abusive\n"
     ]
    }
   ],
   "source": [
    "text = 'i hate you and i will kill you in the future'\n",
    "text=[clean_text(text)]\n",
    "print(\"pred\", text)\n",
    "seq = tokenizerEN.texts_to_sequences(text)\n",
    "padded = sequence.pad_sequences(seq, maxlen=300)\n",
    "pred = modelEN.predict(padded)\n",
    "print(\"pred\", pred)\n",
    "if pred<0.5:\n",
    "    print(\"no hate\")\n",
    "else:\n",
    "    print(\"hate and abusive\")"
   ]
  },
  {
   "cell_type": "markdown",
   "metadata": {},
   "source": [
    "### Save Model Component"
   ]
  },
  {
   "cell_type": "code",
   "execution_count": 56,
   "metadata": {
    "execution": {
     "iopub.execute_input": "2022-06-01T22:17:05.445731Z",
     "iopub.status.busy": "2022-06-01T22:17:05.444832Z",
     "iopub.status.idle": "2022-06-01T22:17:05.653338Z",
     "shell.execute_reply": "2022-06-01T22:17:05.652351Z",
     "shell.execute_reply.started": "2022-06-01T22:17:05.445695Z"
    }
   },
   "outputs": [],
   "source": [
    "with open('tokenizerEN.pickle', 'wb') as handle:\n",
    "    pickle.dump(tokenizerEN, handle, protocol=pickle.HIGHEST_PROTOCOL)\n",
    "    \n",
    "with open('tokenizerEN.pickle', 'rb') as handle:\n",
    "    load_tokenizer = pickle.load(handle)\n",
    "    \n",
    "with open( './word_dictEN.json' , 'w' ) as file:\n",
    "    json.dump( tokenizerEN.word_index , file)"
   ]
  },
  {
   "cell_type": "markdown",
   "metadata": {},
   "source": [
    "<a id='tensor'></a>\n",
    "## Convert Model Keras To TensorFlow"
   ]
  },
  {
   "cell_type": "markdown",
   "metadata": {},
   "source": [
    "<a id='convertenglish'></a>\n",
    "### English DataSet"
   ]
  },
  {
   "cell_type": "code",
   "execution_count": 57,
   "metadata": {
    "execution": {
     "iopub.execute_input": "2022-06-01T22:17:05.655367Z",
     "iopub.status.busy": "2022-06-01T22:17:05.654957Z",
     "iopub.status.idle": "2022-06-01T22:17:10.742545Z",
     "shell.execute_reply": "2022-06-01T22:17:10.741562Z",
     "shell.execute_reply.started": "2022-06-01T22:17:05.655325Z"
    }
   },
   "outputs": [
    {
     "name": "stderr",
     "output_type": "stream",
     "text": [
      "2022-06-01 22:17:07.265476: W tensorflow/python/util/util.cc:348] Sets are not currently considered sequences, but this may change in the future, so consider avoiding using them.\n",
      "2022-06-01 22:17:09.640658: I tensorflow/core/grappler/devices.cc:75] Number of eligible GPUs (core count >= 8, compute capability >= 0.0): 0 (Note: TensorFlow was not compiled with CUDA or ROCm support)\n",
      "2022-06-01 22:17:09.640977: I tensorflow/core/grappler/clusters/single_machine.cc:357] Starting new session\n",
      "2022-06-01 22:17:09.658652: I tensorflow/core/grappler/optimizers/meta_optimizer.cc:1137] Optimization results for grappler item: graph_to_optimize\n",
      "  function_optimizer: Graph size after: 127 nodes (0), 167 edges (0), time = 2.234ms.\n",
      "  function_optimizer: Graph size after: 127 nodes (0), 167 edges (0), time = 2.191ms.\n",
      "Optimization results for grappler item: sequential_lstm_while_body_13485\n",
      "  function_optimizer: function_optimizer did nothing. time = 0.008ms.\n",
      "  function_optimizer: function_optimizer did nothing. time = 0.001ms.\n",
      "Optimization results for grappler item: sequential_lstm_while_cond_13484\n",
      "  function_optimizer: function_optimizer did nothing. time = 0.006ms.\n",
      "  function_optimizer: function_optimizer did nothing. time = 0.002ms.\n",
      "\n",
      "2022-06-01 22:17:10.296647: W tensorflow/compiler/mlir/lite/python/tf_tfl_flatbuffer_helpers.cc:351] Ignored output_format.\n",
      "2022-06-01 22:17:10.296730: W tensorflow/compiler/mlir/lite/python/tf_tfl_flatbuffer_helpers.cc:354] Ignored drop_control_dependency.\n",
      "2022-06-01 22:17:10.396145: I tensorflow/compiler/mlir/tensorflow/utils/dump_mlir_util.cc:210] disabling MLIR crash reproducer, set env var `MLIR_CRASH_REPRODUCER_DIRECTORY` to enable.\n",
      "2022-06-01 22:17:10.435279: I tensorflow/core/common_runtime/process_util.cc:146] Creating new thread pool with default inter op setting: 2. Tune using inter_op_parallelism_threads for best performance.\n"
     ]
    },
    {
     "data": {
      "text/plain": [
       "20456220"
      ]
     },
     "execution_count": 57,
     "metadata": {},
     "output_type": "execute_result"
    }
   ],
   "source": [
    "from tensorflow import keras\n",
    "from tensorflow import lite\n",
    "saved_model_dir = './Hate&Abusive_ModelEN.h5'\n",
    "model = keras.models.load_model(saved_model_dir)\n",
    "converter = lite.TFLiteConverter.from_keras_model(model)\n",
    "tflite_model = converter.convert()\n",
    "open(\"Hate&Abusive_ModelEN.tflite\",\"wb\").write(tflite_model)"
   ]
  },
  {
   "cell_type": "code",
   "execution_count": 58,
   "metadata": {
    "execution": {
     "iopub.execute_input": "2022-06-01T22:17:10.744023Z",
     "iopub.status.busy": "2022-06-01T22:17:10.743709Z",
     "iopub.status.idle": "2022-06-01T22:17:10.792345Z",
     "shell.execute_reply": "2022-06-01T22:17:10.791170Z",
     "shell.execute_reply.started": "2022-06-01T22:17:10.743995Z"
    }
   },
   "outputs": [
    {
     "name": "stdout",
     "output_type": "stream",
     "text": [
      "1 input(s):\n",
      "[  1 300] <class 'numpy.float32'>\n",
      "\n",
      "1 output(s):\n",
      "[1 1] <class 'numpy.float32'>\n"
     ]
    }
   ],
   "source": [
    "import tensorflow as tf\n",
    "\n",
    "interpreter = tf.lite.Interpreter(model_path=\"./Hate&Abusive_ModelEN.tflite\")\n",
    "interpreter.allocate_tensors()\n",
    "\n",
    "# Print input shape and type\n",
    "inputs = interpreter.get_input_details()\n",
    "print('{} input(s):'.format(len(inputs)))\n",
    "for i in range(0, len(inputs)):\n",
    "    print('{} {}'.format(inputs[i]['shape'], inputs[i]['dtype']))\n",
    "\n",
    "# Print output shape and type\n",
    "outputs = interpreter.get_output_details()\n",
    "print('\\n{} output(s):'.format(len(outputs)))\n",
    "for i in range(0, len(outputs)):\n",
    "    print('{} {}'.format(outputs[i]['shape'], outputs[i]['dtype']))"
   ]
  },
  {
   "cell_type": "markdown",
   "metadata": {},
   "source": [
    "<a id='concl'></a>\n",
    "## Conclusions"
   ]
  },
  {
   "cell_type": "markdown",
   "metadata": {},
   "source": [
    "> The main focus of NLP project is for detection of offensive and abusive language in online communication conducted so far is mainly for English. There is no much attention being paid to the same problem in Arabic. \n",
    "> In this project, we conduct machine learning experiments with a dataset of YouTube, twitter, and other platforms comments in English. To the best of our knowledge, our dataset is the largest dataset of English text specifically designed for training predictive models for detection of offensive language in online communication.\n"
   ]
  },
  {
   "cell_type": "code",
   "execution_count": null,
   "metadata": {},
   "outputs": [],
   "source": []
  }
 ],
 "metadata": {
  "kernelspec": {
   "display_name": "Python 3 (ipykernel)",
   "language": "python",
   "name": "python3"
  },
  "language_info": {
   "codemirror_mode": {
    "name": "ipython",
    "version": 3
   },
   "file_extension": ".py",
   "mimetype": "text/x-python",
   "name": "python",
   "nbconvert_exporter": "python",
   "pygments_lexer": "ipython3",
   "version": "3.9.7"
  }
 },
 "nbformat": 4,
 "nbformat_minor": 4
}
