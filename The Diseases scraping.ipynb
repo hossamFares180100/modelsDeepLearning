{
 "cells": [
  {
   "cell_type": "markdown",
   "id": "d491f1c0",
   "metadata": {},
   "source": [
    "# Project: The Diseases DataBase (TDDB) Project\n",
    "\n",
    "## Table of Contents\n",
    "<ul>\n",
    "<li><a href=\"#intro\">Introduction</a></li>\n",
    "<li><a href=\"#wrangling\">Data Wrangling</a></li>\n",
    "<li><a href=\"#eda\">Exploratory Data Analysis</a></li>\n",
    "<li><a href=\"#conclusions\">Conclusions</a></li>\n",
    "</ul>"
   ]
  },
  {
   "cell_type": "markdown",
   "id": "b37e3a72",
   "metadata": {},
   "source": [
    "<a id='intro'></a>\n",
    "## Introduction\n",
    "\n",
    "***\n",
    "We will collect data about various diseases and this data consists of (disease name, symptoms, risk factors, causes, diagnosis, etc...) and this data we will collect by scraping a website (https://www.mayoclinic.org/) in ( Diseases_master.csv )then we will display data and discover quality and narrow issues and then we clean that data and answer the listed questions.\n",
    "\n",
    "- What are the top 10 symptoms that accompany most diseases?\n",
    "- What are the top 10 risk factors associated with most diseases?\n",
    "\n",
    "***"
   ]
  },
  {
   "cell_type": "markdown",
   "id": "9d184082",
   "metadata": {},
   "source": [
    "# Importing libraries"
   ]
  },
  {
   "cell_type": "code",
   "execution_count": 1,
   "id": "29416100",
   "metadata": {},
   "outputs": [],
   "source": [
    "import pandas as pd\n",
    "import numpy as np\n",
    "import os\n",
    "import urllib3\n",
    "from tqdm import tqdm\n",
    "from http.client import responses\n",
    "from bs4 import BeautifulSoup as BS\n",
    "from tqdm import tqdm\n",
    "import matplotlib.pyplot as plt  \n",
    "import seaborn\n",
    "%matplotlib inline"
   ]
  },
  {
   "cell_type": "markdown",
   "id": "505647fc",
   "metadata": {},
   "source": [
    "<a id='collection'></a>\n",
    "# Data Collection using web scraping"
   ]
  },
  {
   "cell_type": "markdown",
   "id": "7ac6171e",
   "metadata": {},
   "source": [
    "### We will do the following steps:\n",
    "-  We will specify the site from which we will scrape data, which is ( https://www.mayoclinic.org/ )\n",
    "-  Then we will specify the sentences and points that we want to scrape\n",
    "-  Finally, we will fill in the data base with this data ( DiseasesDB.csv , Diseases_master.csv) "
   ]
  },
  {
   "cell_type": "code",
   "execution_count": 2,
   "id": "537961b2",
   "metadata": {},
   "outputs": [],
   "source": [
    "http = urllib3.PoolManager()\n",
    "#Until we can extract only the sentences we need\n",
    "list_header = ['h1','h2','h3','h4','h5','h6','h7']\n",
    "list_a = ['a','div']\n",
    "\n",
    "#WE will create some of arraylist to store texts\n",
    "arraylist_for_alphaptic = []\n",
    "arraylist_for_diseases = []\n",
    "arraylist_urls_symptoms_treatment = []\n",
    "arraylist_all_data = []\n",
    "arraylist_all_data_subset = []"
   ]
  },
  {
   "cell_type": "code",
   "execution_count": 4,
   "id": "08b6713f",
   "metadata": {},
   "outputs": [],
   "source": [
    "#Path of files\n",
    "path = 'C:\\\\Users\\\\hossam\\\\Desktop\\\\'\n",
    "output_file_final = os.path.join(path,'DiseasesDB.csv')\n",
    "\n",
    "#url of data extraction\n",
    "url = \"https://www.mayoclinic.org/diseases-conditions/index?letter=A\""
   ]
  },
  {
   "cell_type": "markdown",
   "id": "27d19c39",
   "metadata": {},
   "source": [
    "## We will do the following steps: "
   ]
  },
  {
   "cell_type": "markdown",
   "id": "fb240070",
   "metadata": {},
   "source": [
    "- we will fill arraylist_for_alphaptic use the above url"
   ]
  },
  {
   "cell_type": "code",
   "execution_count": 5,
   "id": "55802176",
   "metadata": {},
   "outputs": [
    {
     "name": "stdout",
     "output_type": "stream",
     "text": [
      "inside :   200  --   OK\n",
      "finish :   200  --   OK\n"
     ]
    }
   ],
   "source": [
    "while True:\n",
    "    response = http.request('GET', url,headers={'User-Agent': 'Mozilla/5.0'})\n",
    "    http_status_description = responses[response.status]\n",
    "    print(\"inside :  \",response.status , \" --  \",http_status_description )\n",
    "    if responses[response.status] == \"OK\" and response.status == 200:\n",
    "        break\n",
    "print(\"finish :  \",response.status , \" --  \",http_status_description )    \n",
    "soup = BS(response.data,'html.parser')\n",
    "target = soup.find('div', class_ ='holder')\n",
    "try:\n",
    "    newsoup = BS(str(target), 'html.parser')\n",
    "    lis = newsoup.find_all('li')\n",
    "    for li in lis:\n",
    "        arraylist_for_alphaptic.append(\"https://www.mayoclinic.org\"+li.find('a')['href'])\n",
    "        # print(\"https://www.mayoclinic.org\"+li.find('a')['href'])\n",
    "except Exception:\n",
    "    text = \"not found urls\""
   ]
  },
  {
   "cell_type": "markdown",
   "id": "7c2a0b89",
   "metadata": {},
   "source": [
    "- Then we dictate arraylist_for_diseases by extracting the links in arraylist_for_alphaptic and placing them in arraylist_for_diseases"
   ]
  },
  {
   "cell_type": "code",
   "execution_count": 6,
   "id": "a6b14054",
   "metadata": {},
   "outputs": [
    {
     "name": "stderr",
     "output_type": "stream",
     "text": [
      "100%|██████████████████████████████████████████████████████████████████████████████████| 27/27 [00:27<00:00,  1.01s/it]"
     ]
    },
    {
     "name": "stdout",
     "output_type": "stream",
     "text": [
      "2206\n"
     ]
    },
    {
     "name": "stderr",
     "output_type": "stream",
     "text": [
      "\n"
     ]
    }
   ],
   "source": [
    "for url_alphaptic in tqdm(arraylist_for_alphaptic):\n",
    "    url = url_alphaptic\n",
    "    \n",
    "    while True:\n",
    "        response = http.request('GET', url,headers={'User-Agent': 'Mozilla/5.0'})\n",
    "        http_status_description = responses[response.status]\n",
    "        #print(\"inside :  \",response.status , \" --  \",http_status_description )\n",
    "        if responses[response.status] == \"OK\" and response.status == 200:\n",
    "            break\n",
    "    #print(\"finish :  \",response.status , \" --  \",http_status_description )   \n",
    "    \n",
    "    soup = BS(response.data,'html.parser')\n",
    "    target = soup.find('div', class_ ='index content-within')\n",
    "    try:\n",
    "        newsoup = BS(str(target), 'html.parser')\n",
    "        lis = newsoup.find_all('li')\n",
    "        for li in lis:\n",
    "            arraylist_for_diseases.append(\"https://www.mayoclinic.org\"+li.find('a')['href'])\n",
    "              #  print(\"https://www.mayoclinic.org\"+li.find('a')['href'])\n",
    "    except Exception:\n",
    "        text = \"not found urls\"\n",
    "        \n",
    "print(len(arraylist_for_diseases))"
   ]
  },
  {
   "cell_type": "markdown",
   "id": "220325f5",
   "metadata": {},
   "source": [
    "- After these operations, we can now access each link for each disease separately and take the data that we want to scrape, but before that we must extract the links ( Treatment , Diagnosis , Medications )."
   ]
  },
  {
   "cell_type": "markdown",
   "id": "0ba5d8d3",
   "metadata": {},
   "source": [
    "##### So we will do some operations, which are as follows:\n",
    "- We do a arraylist scan ( arraylist_for_diseases ).\n",
    "- Then we create a dictionary ( dictionary_urls_symptoms_treatment)  and put link of ( url_symptoms_causes ) in the key\n",
    "- ( url_symptoms_causes ) and put link ( url_diagnosis_treatment ) in the key ( url_diagnosis_treatment ).\n",
    "- Finally, we add that dictionary to ( arraylist_urls_symptoms_treatment )and repeat these operations until we finish scanning the arraylist ( arraylist_for_diseases )."
   ]
  },
  {
   "cell_type": "code",
   "execution_count": 7,
   "id": "c7a9be47",
   "metadata": {},
   "outputs": [
    {
     "name": "stderr",
     "output_type": "stream",
     "text": [
      "100%|██████████████████████████████████████████████████████████████████████████████| 2206/2206 [16:25<00:00,  2.24it/s]"
     ]
    },
    {
     "name": "stdout",
     "output_type": "stream",
     "text": [
      "2206\n"
     ]
    },
    {
     "name": "stderr",
     "output_type": "stream",
     "text": [
      "\n"
     ]
    }
   ],
   "source": [
    "for url_diseases in tqdm(arraylist_for_diseases):\n",
    "    dictionary_urls_symptoms_treatment = {}\n",
    "    url = url_diseases\n",
    "    while True:\n",
    "        response = http.request('GET', url,headers={'User-Agent': 'Mozilla/5.0'})\n",
    "        http_status_description = responses[response.status]\n",
    "        #print(\"inside :  \",response.status , \" --  \",http_status_description )\n",
    "        if responses[response.status] == \"OK\" and response.status == 200:\n",
    "            break\n",
    "    #print(\"finish :  \",response.status , \" --  \",http_status_description )   \n",
    "    soup = BS(response.data,'html.parser')\n",
    "    target = soup.find('div',id ='access-nav')\n",
    "    \n",
    "    try:\n",
    "        newsoup = BS(str(target), 'html.parser')\n",
    "        lis = newsoup.find_all('li')\n",
    "        count = 0\n",
    "        for li in lis:\n",
    "            if count == 0:\n",
    "                dictionary_urls_symptoms_treatment['url_symptoms_causes'] = \"https://www.mayoclinic.org\"+li.find('a')['href']\n",
    "            elif count ==1:\n",
    "                dictionary_urls_symptoms_treatment['url_diagnosis_treatment'] = \"https://www.mayoclinic.org\"+li.find('a')['href']\n",
    "            else:\n",
    "                break\n",
    "            count+=1\n",
    "        if  dictionary_urls_symptoms_treatment != {}:\n",
    "            arraylist_urls_symptoms_treatment.append(dictionary_urls_symptoms_treatment)\n",
    "    except Exception:\n",
    "        text = \"not found urls\"\n",
    "\n",
    "print(len(arraylist_urls_symptoms_treatment))"
   ]
  },
  {
   "cell_type": "markdown",
   "id": "13ca21ba",
   "metadata": {},
   "source": [
    "###### Now we have a link for each disease (url_diagnosis_treatment,url_symptoms_causes ) "
   ]
  },
  {
   "cell_type": "markdown",
   "id": "3fa1de6e",
   "metadata": {},
   "source": [
    "- We do a arraylist scan ( arraylist_urls_symptoms_treatment ).\n",
    "\n",
    "- Then we create a dictionary ( dictionary_all_data ) and put some data in it: \n",
    "\n",
    "  - url_of_disease (symptoms-causes)          \n",
    "  - name of symptoms-causes                   \n",
    "  - Overview                                  \n",
    "  - pragraph of Symptoms                      \n",
    "  - Symptoms                                 \n",
    "  - When to see a doctor                      \n",
    "  - pragraph of Causes                        \n",
    "  - Causes                                   \n",
    "  - pragraph of Risk factors               \n",
    "  - Risk factors                            \n",
    "  - pragraph of Complications                 \n",
    "  - Complications                         \n",
    "  - pragraph of Prevention                    \n",
    "  - Prevention                              \n",
    "  - url_of_disease (diagnosis-treatment)      \n",
    "  - name of (diagnosis-treatment)            \n",
    "  - pragraph of Diagnosis                  \n",
    "  - Diagnosis                                \n",
    "  - pragraph of Treatment                    \n",
    "  - Treatment                              \n",
    "  - pragraph of Medications                   \n",
    "  - Medications                          \n",
    "\n",
    "\n",
    "\n",
    "\n",
    "- Finally, we add that dictionary to ( arraylist_all_data )and repeat these operations until we finish scanning the arraylist ( arraylist_urls_symptoms_treatment )."
   ]
  },
  {
   "cell_type": "markdown",
   "id": "726990eb",
   "metadata": {},
   "source": [
    "###### note we will this operation with dictionary(dictionary_all_data_subset ) and append to arraylist ( arraylist_all_data_subset )."
   ]
  },
  {
   "cell_type": "code",
   "execution_count": 17,
   "id": "af568402",
   "metadata": {},
   "outputs": [
    {
     "name": "stderr",
     "output_type": "stream",
     "text": [
      "100%|██████████████████████████████████████████████████████████████████████████████| 2206/2206 [33:21<00:00,  1.10it/s]\n"
     ]
    }
   ],
   "source": [
    "count = 1\n",
    "arraylist_all_data_subset=[]\n",
    "dictionary_all_data_subset={}\n",
    "    \n",
    "for dictionary_url in tqdm(arraylist_urls_symptoms_treatment) : \n",
    "    dictionary_all_data = {}\n",
    "    url_symptoms_causes = dictionary_url['url_symptoms_causes']\n",
    "    url_diagnosis_treatment = dictionary_url['url_diagnosis_treatment']\n",
    "    \n",
    "    \n",
    "    ##############################################################\n",
    "    ##############################################################\n",
    "    #to get infromation about symptoms-causes for each disease####\n",
    "    ##############################################################\n",
    "    ##############################################################\n",
    "    #url_symptoms_causes = \"https://www.mayoclinic.org/diseases-conditions/coronavirus/symptoms-causes/syc-20479963\"\n",
    "    \n",
    "    while True:\n",
    "        response = http.request('GET', url_symptoms_causes,headers={'User-Agent': 'Mozilla/5.0'})\n",
    "        http_status_description = responses[response.status]\n",
    "        #print(\"inside :  \",response.status , \" --  \",http_status_description )\n",
    "        if responses[response.status] == \"OK\" and response.status == 200:\n",
    "            break\n",
    "    #print(\"finish :  \",response.status , \" --  \",http_status_description )\n",
    "    \n",
    "    soup = BS(response.data,'html.parser')\n",
    "    dictionary_all_data['url_of_disease (symptoms-causes)'] = url_symptoms_causes\n",
    "    \n",
    "    ####for extract name of disease \n",
    "    target = soup.find('h1').text\n",
    "    #print(target)\n",
    "    dictionary_all_data['name of symptoms-causes'] = target\n",
    "    \n",
    "    ####for extract Overview \n",
    "    flag = False\n",
    "    text = ''\n",
    "    #print(\"\\n\\Overview : \\n\")\n",
    "    target = soup.find('h2',text='Overview')\n",
    "    try:\n",
    "        for sib in target.find_next_siblings():\n",
    "            if sib.name in list_header :\n",
    "                break\n",
    "            else:\n",
    "                newsoup = BS(str(sib), 'html.parser')\n",
    "                lis = newsoup.find_all('p')\n",
    "                for li in lis:\n",
    "                    text = text + li.text + \"@$\"\n",
    "                #     print(li.text)\n",
    "    except Exception:\n",
    "        text = \"not found Overview\"\n",
    "        # print(\"not found Overview\")\n",
    "    dictionary_all_data['Overview'] = text\n",
    "    \n",
    "    ####for extract pragraph of Symptoms \n",
    "    #print(\"\\n\\ pragraph of Symptoms  : \\n\")\n",
    "    flag = False\n",
    "    text = ''\n",
    "    target = soup.find('h2',text='Symptoms')\n",
    "    try:\n",
    "        for sib in target.find_next_siblings():\n",
    "                if (sib.name in list_header or sib.name in list_a ) and flag :\n",
    "                    break\n",
    "                else:\n",
    "                    newsoup = BS(str(sib), 'html.parser')\n",
    "                    lis = \"\".join([p.text for p in newsoup.find_all(\"p\")])\n",
    "                    text = text + str(lis) + \"@$\"\n",
    "                    lis = newsoup.find_all('li')\n",
    "                    for li in lis:\n",
    "                        text = text + li.text + \"@$\"\n",
    "                        flag = True\n",
    "    except Exception:\n",
    "        text = \"not found Symptoms\"\n",
    "      #  print(\"not found Symptoms\")\n",
    "    dictionary_all_data['pragraph of Symptoms'] = text\n",
    "    \n",
    "    ####for extract Symptoms \n",
    "    #print(\"\\n\\nSymptoms : \\n\")\n",
    "    flag = False\n",
    "    text = ''\n",
    "    target = soup.find('h2',text='Symptoms')\n",
    "    try:\n",
    "        for sib in target.find_next_siblings():\n",
    "            if (sib.name in list_header or sib.name in list_a ) and flag :\n",
    "                break\n",
    "            else:\n",
    "                newsoup = BS(str(sib), 'html.parser')\n",
    "                lis = newsoup.find_all('li')\n",
    "                for li in lis:\n",
    "                    text = text + li.text + \"@$\"\n",
    "                    flag = True\n",
    "    except Exception:\n",
    "        text = \"not found Symptoms\"\n",
    "      #  print(\"not found Symptoms\")\n",
    "    dictionary_all_data['Symptoms'] = text\n",
    "                \n",
    "    ####for extract when to see doctor \n",
    "    #print(\"\\n\\nwhen to see doctor  : \\n\")\n",
    "    flag = False\n",
    "    text = ''\n",
    "    target = soup.find('h3',text='When to see a doctor')\n",
    "    try:\n",
    "        for sib in target.find_next_siblings():\n",
    "            if sib.name==\"div\":\n",
    "                break\n",
    "            else:\n",
    "                text = text + sib.text + \"@$\"\n",
    "                # print(sib.text)\n",
    "    except Exception:\n",
    "        text = \"not found When to see a doctor\"\n",
    "        # print(\"not found When to see a doctor\")\n",
    "    dictionary_all_data['When to see a doctor'] = text\n",
    "    \n",
    "    ####for extract pragraph of Causes correct\n",
    "    #print(\"\\n\\npragraph of Causes  : \\n\")\n",
    "    flag = False\n",
    "    text =''\n",
    "    target = soup.find('h2',text='Causes')\n",
    "    try:\n",
    "        for sib in target.find_next_siblings():\n",
    "                if (sib.name in list_header or sib.name in list_a ) and flag :\n",
    "                    break\n",
    "                else:\n",
    "                    newsoup = BS(str(sib), 'html.parser')\n",
    "                    lis = \"\".join([p.text for p in newsoup.find_all(\"p\")])\n",
    "                    text = text + str(lis) + \"@$\"\n",
    "                    lis = newsoup.find_all('li')\n",
    "                    for li in lis:\n",
    "                        text = text + li.text + \"@$\"\n",
    "                        flag = True\n",
    "    except Exception:\n",
    "        text = \"not found Causes\"\n",
    "      #  print(\"not found Causes\")\n",
    "    dictionary_all_data['pragraph of Causes'] = text\n",
    "        \n",
    "    ####for extract Causes correct\n",
    "    #print(\"\\n\\nCauses  : \\n\")\n",
    "    flag = False\n",
    "    text = ''\n",
    "    target = soup.find('h2',text='Causes')\n",
    "    try:\n",
    "        for sib in target.find_next_siblings():\n",
    "            if (sib.name in list_header or sib.name in list_a ) and flag :\n",
    "                break\n",
    "            else:\n",
    "                newsoup = BS(str(sib), 'html.parser')\n",
    "                lis = newsoup.find_all('li')\n",
    "                for li in lis:\n",
    "                    text = text + li.text + \"@$\"\n",
    "                    flag = True\n",
    "    except Exception:\n",
    "        text = \"not found Causes\"\n",
    "        # print(\"not found Causes\")\n",
    "    dictionary_all_data['Causes'] =text   \n",
    "    \n",
    "    ####for extract pragraph of Risk factors correct\n",
    "    #print(\"\\n\\npragraph of Risk factors   : \\n\")\n",
    "    flag = False\n",
    "    text = ''\n",
    "    target = soup.find('h2',text='Risk factors')\n",
    "    try:\n",
    "        for sib in target.find_next_siblings():\n",
    "                if (sib.name in list_header or sib.name in list_a ) and flag :\n",
    "                    break\n",
    "                else:\n",
    "                    newsoup = BS(str(sib), 'html.parser')\n",
    "                    lis = \"\".join([p.text for p in newsoup.find_all(\"p\")])\n",
    "                    text = text + str(lis) + \"@$\"\n",
    "                    lis = newsoup.find_all('li')\n",
    "                    for li in lis:\n",
    "                        text = text + li.text + \"@$\"\n",
    "                        flag = True\n",
    "    except Exception:\n",
    "        text = \"not found Risk factors\"\n",
    "      #  print(\"not found Risk factors\")      \n",
    "    dictionary_all_data['pragraph of Risk factors'] =text \n",
    "    \n",
    "    ####or extract Risk factors correct\n",
    "    # print(\"\\n\\n Risk factors   : \\n\")\n",
    "    flag = False\n",
    "    text = ''\n",
    "    target = soup.find('h2',text='Risk factors')\n",
    "    try:\n",
    "        for sib in target.find_next_siblings():\n",
    "            if (sib.name in list_header or sib.name in list_a ) and flag :\n",
    "                break\n",
    "            else:\n",
    "                newsoup = BS(str(sib), 'html.parser')\n",
    "                lis = newsoup.find_all('li')\n",
    "                for li in lis:\n",
    "                    text = text + li.text + \"@$\"\n",
    "                    flag = True\n",
    "    except Exception:\n",
    "        text = \"not found Risk factors\"\n",
    "        # print(\"not found Risk factors\")     \n",
    "    dictionary_all_data['Risk factors'] =text  \n",
    "    \n",
    "    ####for extract pragraph of Complications  correct\n",
    "    #print(\"\\n\\n pragraph of Complications   : \\n\")\n",
    "    flag = False\n",
    "    text = \"\"\n",
    "    target = soup.find('h2',text='Complications')\n",
    "    try:\n",
    "        for sib in target.find_next_siblings():\n",
    "                if (sib.name in list_header or sib.name in list_a ) and flag :\n",
    "                    break\n",
    "                else:\n",
    "                    newsoup = BS(str(sib), 'html.parser')\n",
    "                    lis = \"\".join([p.text for p in newsoup.find_all(\"p\")])\n",
    "                    text = text + str(lis) + \"@$\"\n",
    "                    lis = newsoup.find_all('li')\n",
    "                    for li in lis:\n",
    "                        text = text + li.text + \"@$\"\n",
    "                        flag = True\n",
    "    except Exception:\n",
    "        text = \"not found Complications\"\n",
    "        # print(\"not found Complications\")\n",
    "    dictionary_all_data['pragraph of Complications'] =text   \n",
    "            \n",
    "    ####for extract Complications  correct\n",
    "    #print(\"\\n\\n Complications   : \\n\")\n",
    "    flag = False\n",
    "    text = \"\"\n",
    "    target = soup.find('h2',text='Complications')\n",
    "    try:\n",
    "        for sib in target.find_next_siblings():\n",
    "            if (sib.name in list_header or sib.name in list_a ) and flag :\n",
    "                break\n",
    "            else:\n",
    "                newsoup = BS(str(sib), 'html.parser')\n",
    "                lis = newsoup.find_all('li')\n",
    "                for li in lis:\n",
    "                    text = text + li.text + \"@$\"\n",
    "                    flag = True\n",
    "    except Exception:\n",
    "        text = \"not found Complications\"\n",
    "      #  print(\"not found Complications\")\n",
    "    dictionary_all_data['Complications'] =text     \n",
    "          \n",
    "    ####for extract pragraph of Prevention  correct\n",
    "    #print(\"\\n\\n  pragraph of Prevention   : \\n\")\n",
    "    flag = False\n",
    "    text = \"\"\n",
    "    target = soup.find('h2',text='Prevention')\n",
    "    try:\n",
    "        for sib in target.find_next_siblings():\n",
    "                if (sib.name in list_header or sib.name in list_a ) and flag :\n",
    "                    break\n",
    "                else:\n",
    "                    newsoup = BS(str(sib), 'html.parser')\n",
    "                    lis = \"\".join([p.text for p in newsoup.find_all(\"p\")])\n",
    "                    text = text + str(lis) + \"@$\"\n",
    "                    lis = newsoup.find_all('li')\n",
    "                    for li in lis:\n",
    "                        text = text + li.text + \"@$\"\n",
    "                        flag = True\n",
    "    except Exception:\n",
    "        text = \"not found Prevention\"\n",
    "      #  print(\"not found Prevention\")\n",
    "    dictionary_all_data['pragraph of Prevention'] = text\n",
    "    \n",
    "    ####for extract Prevention  correct\n",
    "    #print(\"\\n\\n Prevention   : \\n\")\n",
    "    flag = False\n",
    "    text = \"\"\n",
    "    target = soup.find('h2',text='Prevention')\n",
    "    try:\n",
    "        for sib in target.find_next_siblings():\n",
    "            if (sib.name in list_header or sib.name in list_a ) and flag :\n",
    "                break\n",
    "            else:\n",
    "                newsoup = BS(str(sib), 'html.parser')\n",
    "                lis = newsoup.find_all('li')\n",
    "                for li in lis:\n",
    "                    text = text + li.text + \"@$\"\n",
    "                    flag = True\n",
    "    except Exception:\n",
    "        text = \"not found Prevention\"\n",
    "        # print(\"not found Prevention\")\n",
    "    dictionary_all_data['Prevention'] = text \n",
    "    \n",
    "    ###############################################################\n",
    "    ###############################################################\n",
    "    #to get infromation about diagnosis-treatment for each disease#\n",
    "    ###############################################################\n",
    "    ###############################################################\n",
    "\n",
    "    #url_diagnosis_treatment = \"https://www.mayoclinic.org/diseases-conditions/coronavirus/diagnosis-treatment/drc-20479976\"\n",
    "    \n",
    "    while True:\n",
    "        response = http.request('GET', url_diagnosis_treatment,headers={'User-Agent': 'Mozilla/5.0'})\n",
    "        http_status_description = responses[response.status]\n",
    "        #print(\"inside :  \",response.status , \" --  \",http_status_description )\n",
    "        if responses[response.status] == \"OK\" and response.status == 200:\n",
    "            break\n",
    "    #print(\"finish :  \",response.status , \" --  \",http_status_description )\n",
    "    soup = BS(response.data,'html.parser')\n",
    "    dictionary_all_data['url_of_disease (diagnosis-treatment)'] = url_diagnosis_treatment\n",
    "    \n",
    "    ####for extract name of disease \n",
    "    target = soup.find('h1').text\n",
    "    #print(target)\n",
    "    dictionary_all_data['name of (diagnosis-treatment)'] = target\n",
    "    \n",
    "    ####for extract pragraph of Diagnosis \n",
    "    # print(\"\\n\\n pragraph of Diagnosis : \\n\")\n",
    "    flag = False\n",
    "    text = \"\"\n",
    "    target = soup.find('h2',text='Diagnosis')\n",
    "    try:\n",
    "        for sib in target.find_next_siblings():\n",
    "                if (sib.name in list_header or sib.name in list_a ) and flag :\n",
    "                    break\n",
    "                else:\n",
    "                    newsoup = BS(str(sib), 'html.parser')\n",
    "                    lis = \"\".join([p.text for p in newsoup.find_all(\"p\")])\n",
    "                    text = text + str(lis) + \"@$\"\n",
    "                    lis = newsoup.find_all('li')\n",
    "                    for li in lis:\n",
    "                        text = text + li.text + \"@$\"\n",
    "                        flag = True\n",
    "    except Exception:\n",
    "        text = \"not found Diagnosis\"\n",
    "      #  print(\"not found Diagnosis\")\n",
    "    dictionary_all_data['pragraph of Diagnosis'] = text\n",
    "        \n",
    "    ####for extract Diagnosis \n",
    "    #\n",
    "    #print(\"\\n\\n Diagnosis : \\n\")\n",
    "    flag = False\n",
    "    text = \"\"\n",
    "    target = soup.find('h2',text='Diagnosis')\n",
    "    try:\n",
    "        for sib in target.find_next_siblings():\n",
    "            if (sib.name in list_header or sib.name in list_a ) and flag :\n",
    "                break\n",
    "            else:\n",
    "                newsoup = BS(str(sib), 'html.parser')\n",
    "                lis = newsoup.find_all('li')\n",
    "                for li in lis:\n",
    "                    text = text + li.text + \"@$\"\n",
    "                    flag = True\n",
    "    except Exception:\n",
    "        text = \"not found Diagnosis\"\n",
    "        # print(\"not found Diagnosis\")\n",
    "    dictionary_all_data['Diagnosis'] = text\n",
    "    \n",
    "    ####for extract pragraph of Treatment  correct\n",
    "    #print(\"\\n\\n pragraph of Treatment   : \\n\")\n",
    "    flag = False\n",
    "    text = \"\"\n",
    "    target = soup.find('h2',text='Treatment')\n",
    "    try:\n",
    "        for sib in target.find_next_siblings():\n",
    "                if (sib.name in list_header or sib.name in list_a ) and flag :\n",
    "                    break\n",
    "                else:\n",
    "                    newsoup = BS(str(sib), 'html.parser')\n",
    "                    lis = \"\".join([p.text for p in newsoup.find_all(\"p\")])\n",
    "                    text = text + str(lis) + \"@$\"\n",
    "                    lis = newsoup.find_all('li')\n",
    "                    for li in lis:\n",
    "                        text = text + li.text + \"@$\"\n",
    "                        flag = True\n",
    "    except Exception:\n",
    "        text = \"not found Treatment\"\n",
    "      #  print(\"not found Treatment\")\n",
    "    dictionary_all_data['pragraph of Treatment'] = text\n",
    "    \n",
    "    ####for extract Treatment  correct\n",
    "    #print(\"\\n\\n Treatment   : \\n\")\n",
    "    flag = False\n",
    "    text = \"\"\n",
    "    target = soup.find('h2',text='Treatment')\n",
    "    try:\n",
    "      for sib in target.find_next_siblings():\n",
    "            if (sib.name in list_header or sib.name in list_a ) and flag :\n",
    "                break\n",
    "            else:\n",
    "                newsoup = BS(str(sib), 'html.parser')\n",
    "                lis = newsoup.find_all('li')\n",
    "                for li in lis:\n",
    "                    text = text + li.text + \"@$\"\n",
    "                    flag = True\n",
    "    except Exception:\n",
    "        text = \"not found Treatment\"\n",
    "        # print(\"not found Treatment\")\n",
    "    dictionary_all_data['Treatment'] = text\n",
    "    \n",
    "    ####for extract pragraph of Medications correct\n",
    "    #print(\"\\n\\n Medications   : \\n\")\n",
    "    flag = False\n",
    "    text = \"\"\n",
    "    target = soup.find('h3',text='Medications')\n",
    "    try:\n",
    "        for sib in target.find_next_siblings():\n",
    "                if (sib.name in list_header or sib.name in list_a ) and flag :\n",
    "                    break\n",
    "                else:\n",
    "                    newsoup = BS(str(sib), 'html.parser')\n",
    "                    lis = \"\".join([p.text for p in newsoup.find_all(\"p\")])\n",
    "                    text = text + str(lis) + \"@$\"\n",
    "                    lis = newsoup.find_all('li')\n",
    "                    for li in lis:\n",
    "                        text = text + li.text + \"@$\"\n",
    "                        flag = True\n",
    "    except Exception:\n",
    "        text = \"not found Medications\"\n",
    "        # print(\"not found Medications\")\n",
    "    dictionary_all_data['pragraph of Medications'] = text\n",
    "    \n",
    "    \n",
    "    ####for extract Medications  correct\n",
    "    #print(\"\\n\\n Medications   : \\n\")\n",
    "    flag = False\n",
    "    text = \"\"\n",
    "    target = soup.find('h3',text='Medications')\n",
    "    try:\n",
    "        for sib in target.find_next_siblings():\n",
    "            if (sib.name in list_header or sib.name in list_a ) and flag :\n",
    "                break\n",
    "            else:\n",
    "                newsoup = BS(str(sib), 'html.parser')\n",
    "                lis = newsoup.find_all('li')\n",
    "                for li in lis:\n",
    "                    text = text + li.text + \"@$\"\n",
    "                    flag = True\n",
    "    except Exception:\n",
    "        text = \"not found Medications\"\n",
    "        # print(\"not found Medications\")\n",
    "    dictionary_all_data['Medications'] = text\n",
    "    if  dictionary_all_data != {} and dictionary_all_data not in arraylist_all_data:\n",
    "        arraylist_all_data.append(dictionary_all_data)\n",
    "        arraylist_all_data_subset.append(dictionary_all_data_subset)\n",
    "        #print(count)\n",
    "        count+=1"
   ]
  },
  {
   "cell_type": "markdown",
   "id": "a6170738",
   "metadata": {},
   "source": [
    "##### Finally we will pass ( arraylist_all_data ) to pd.DataFrame and convert it to a file output_file_final.csv .\n",
    "##### And  we will pass ( arraylist_all_data_subset ) to pd.DataFrame and convert it to a file output_file_SubSet.csv ."
   ]
  },
  {
   "cell_type": "code",
   "execution_count": 14,
   "id": "e7baaaee",
   "metadata": {},
   "outputs": [
    {
     "name": "stdout",
     "output_type": "stream",
     "text": [
      "finish of Final DataSet -->  1150\n",
      "finish of SubSet DataSet -->  1150\n"
     ]
    }
   ],
   "source": [
    "df = pd.DataFrame(arraylist_all_data)\n",
    "df.to_csv(output_file_final, index=False)\n",
    "print(\"finish of Final DataSet --> \" , len(arraylist_all_data))\n",
    "    \n",
    "df = pd.DataFrame(arraylist_all_data_subset)\n",
    "df.to_csv(output_file_SubSet, index=False)\n",
    "print(\"finish of SubSet DataSet --> \" , len(arraylist_all_data_subset))"
   ]
  },
  {
   "cell_type": "markdown",
   "id": "ec0522c9",
   "metadata": {},
   "source": [
    "### Now we can view and deal with data"
   ]
  },
  {
   "cell_type": "markdown",
   "id": "e2f97d8a",
   "metadata": {},
   "source": [
    "<a id='wrangling'></a>\n",
    "# Data Wrangling\n",
    "\n",
    "### General Properties"
   ]
  },
  {
   "cell_type": "markdown",
   "id": "5f916ea9",
   "metadata": {},
   "source": [
    "#### Gathering Data"
   ]
  },
  {
   "cell_type": "code",
   "execution_count": 85,
   "id": "9d4d12e9",
   "metadata": {},
   "outputs": [],
   "source": [
    "# GATHER DATA FROM tmdb-movies\n",
    "df_diseases = pd.read_csv(\"DiseasesDB.csv\")"
   ]
  },
  {
   "cell_type": "markdown",
   "id": "20b53c9c",
   "metadata": {},
   "source": [
    "#### View data"
   ]
  },
  {
   "cell_type": "code",
   "execution_count": 86,
   "id": "c938f38c",
   "metadata": {},
   "outputs": [
    {
     "data": {
      "text/html": [
       "<div>\n",
       "<style scoped>\n",
       "    .dataframe tbody tr th:only-of-type {\n",
       "        vertical-align: middle;\n",
       "    }\n",
       "\n",
       "    .dataframe tbody tr th {\n",
       "        vertical-align: top;\n",
       "    }\n",
       "\n",
       "    .dataframe thead th {\n",
       "        text-align: right;\n",
       "    }\n",
       "</style>\n",
       "<table border=\"1\" class=\"dataframe\">\n",
       "  <thead>\n",
       "    <tr style=\"text-align: right;\">\n",
       "      <th></th>\n",
       "      <th>url_of_disease (symptoms-causes)</th>\n",
       "      <th>name of symptoms-causes</th>\n",
       "      <th>Overview</th>\n",
       "      <th>pragraph of Symptoms</th>\n",
       "      <th>Symptoms</th>\n",
       "      <th>When to see a doctor</th>\n",
       "      <th>pragraph of Causes</th>\n",
       "      <th>Causes</th>\n",
       "      <th>pragraph of Risk factors</th>\n",
       "      <th>Risk factors</th>\n",
       "      <th>...</th>\n",
       "      <th>pragraph of Prevention</th>\n",
       "      <th>Prevention</th>\n",
       "      <th>url_of_disease (diagnosis-treatment)</th>\n",
       "      <th>name of (diagnosis-treatment)</th>\n",
       "      <th>pragraph of Diagnosis</th>\n",
       "      <th>Diagnosis</th>\n",
       "      <th>pragraph of Treatment</th>\n",
       "      <th>Treatment</th>\n",
       "      <th>pragraph of Medications</th>\n",
       "      <th>Medications</th>\n",
       "    </tr>\n",
       "  </thead>\n",
       "  <tbody>\n",
       "    <tr>\n",
       "      <th>0</th>\n",
       "      <td>https://www.mayoclinic.org/diseases-conditions...</td>\n",
       "      <td>Atrial fibrillation</td>\n",
       "      <td>In a typical heart rhythm, a tiny cluster of c...</td>\n",
       "      <td>Some people with atrial fibrillation (A-fib) d...</td>\n",
       "      <td>Sensations of a fast, fluttering or pounding h...</td>\n",
       "      <td>If you have any signs or symptoms of atrial fi...</td>\n",
       "      <td>To understand the causes of A-fib, it may be h...</td>\n",
       "      <td>The signal travels from the sinus node through...</td>\n",
       "      <td>Things that can increase the risk of atrial fi...</td>\n",
       "      <td>Age. The older a person is, the greater the ri...</td>\n",
       "      <td>...</td>\n",
       "      <td>Healthy lifestyle choices can reduce the risk ...</td>\n",
       "      <td>Eat a nutritious diet@$Get regular exercise an...</td>\n",
       "      <td>https://www.mayoclinic.org/diseases-conditions...</td>\n",
       "      <td>Atrial fibrillation</td>\n",
       "      <td>Some people are unaware that they have atrial ...</td>\n",
       "      <td>Electrocardiogram (ECG or EKG). This quick and...</td>\n",
       "      <td>Treatment for atrial fibrillation depends on h...</td>\n",
       "      <td>Reset the heart rhythm@$Control the heart rate...</td>\n",
       "      <td>You may be prescribed medications to control h...</td>\n",
       "      <td>Beta blockers. These medications can help slow...</td>\n",
       "    </tr>\n",
       "    <tr>\n",
       "      <th>1</th>\n",
       "      <td>https://www.mayoclinic.org/diseases-conditions...</td>\n",
       "      <td>Abdominal aortic aneurysm</td>\n",
       "      <td>An abdominal aortic aneurysm occurs when a low...</td>\n",
       "      <td>Abdominal aortic aneurysms often grow slowly w...</td>\n",
       "      <td>Deep, constant pain in the belly area or side ...</td>\n",
       "      <td>If you have pain, especially if pain is sudden...</td>\n",
       "      <td>Aneurysms can develop anywhere along the aorta...</td>\n",
       "      <td>Hardening of the arteries (atherosclerosis). A...</td>\n",
       "      <td>Abdominal aortic aneurysm risk factors include...</td>\n",
       "      <td>Tobacco use. Smoking is the strongest risk fac...</td>\n",
       "      <td>...</td>\n",
       "      <td>To prevent an aortic aneurysm or keep an aorti...</td>\n",
       "      <td>Don't smoke or use tobacco products. Quit smok...</td>\n",
       "      <td>https://www.mayoclinic.org/diseases-conditions...</td>\n",
       "      <td>Abdominal aortic aneurysm</td>\n",
       "      <td>Abdominal aortic aneurysms are often found whe...</td>\n",
       "      <td>\\nAbdominal ultrasound. This is the most commo...</td>\n",
       "      <td>The goal of abdominal aortic aneurysm treatmen...</td>\n",
       "      <td>\\nEndovascular repair. This procedure is used ...</td>\n",
       "      <td>not found Medications</td>\n",
       "      <td>not found Medications</td>\n",
       "    </tr>\n",
       "    <tr>\n",
       "      <th>2</th>\n",
       "      <td>https://www.mayoclinic.org/diseases-conditions...</td>\n",
       "      <td>Hyperhidrosis</td>\n",
       "      <td>Hyperhidrosis (hi-pur-hi-DROE-sis) is abnormal...</td>\n",
       "      <td>Most people sweat when they exercise or exert ...</td>\n",
       "      <td>Sweating disrupts your daily routine@$Sweating...</td>\n",
       "      <td>not found When to see a doctor</td>\n",
       "      <td>Your skin has two types of sweat glands: eccri...</td>\n",
       "      <td>Diabetes@$Menopause hot flashes@$Thyroid probl...</td>\n",
       "      <td>not found Risk factors</td>\n",
       "      <td>not found Risk factors</td>\n",
       "      <td>...</td>\n",
       "      <td>not found Prevention</td>\n",
       "      <td>not found Prevention</td>\n",
       "      <td>https://www.mayoclinic.org/diseases-conditions...</td>\n",
       "      <td>Hyperhidrosis</td>\n",
       "      <td>During your appointment, your doctor will ask ...</td>\n",
       "      <td>Prescription antiperspirant. Your doctor may p...</td>\n",
       "      <td>If an underlying medical condition is contribu...</td>\n",
       "      <td>Prescription antiperspirant. Your doctor may p...</td>\n",
       "      <td>Drugs used to treat hyperhidrosis include:@$@$...</td>\n",
       "      <td>Prescription antiperspirant. Your doctor may p...</td>\n",
       "    </tr>\n",
       "    <tr>\n",
       "      <th>3</th>\n",
       "      <td>https://www.mayoclinic.org/diseases-conditions...</td>\n",
       "      <td>Bartholin's cyst</td>\n",
       "      <td>The Bartholin's glands are located on each sid...</td>\n",
       "      <td>If you have a small, noninfected Bartholin's c...</td>\n",
       "      <td>A tender, painful lump near the vaginal openin...</td>\n",
       "      <td>Call your doctor if you have a painful lump ne...</td>\n",
       "      <td>Experts believe that the cause of a Bartholin'...</td>\n",
       "      <td>NaN</td>\n",
       "      <td>not found Risk factors</td>\n",
       "      <td>not found Risk factors</td>\n",
       "      <td>...</td>\n",
       "      <td>There's no way to prevent a Bartholin's cyst. ...</td>\n",
       "      <td>NaN</td>\n",
       "      <td>https://www.mayoclinic.org/diseases-conditions...</td>\n",
       "      <td>Bartholin's cyst</td>\n",
       "      <td>To diagnose a Bartholin's cyst, your doctor ma...</td>\n",
       "      <td>Ask questions about your medical history@$Perf...</td>\n",
       "      <td>Often a Bartholin's cyst requires no treatment...</td>\n",
       "      <td>Sitz baths. Soaking in a tub filled with a few...</td>\n",
       "      <td>not found Medications</td>\n",
       "      <td>not found Medications</td>\n",
       "    </tr>\n",
       "    <tr>\n",
       "      <th>4</th>\n",
       "      <td>https://www.mayoclinic.org/diseases-conditions...</td>\n",
       "      <td>Absence seizure</td>\n",
       "      <td>Absence seizures involve brief, sudden lapses ...</td>\n",
       "      <td>An indication of simple absence seizure is a v...</td>\n",
       "      <td>Sudden stop in motion without falling@$Lip sma...</td>\n",
       "      <td>not found When to see a doctor</td>\n",
       "      <td>Many children appear to have a genetic predisp...</td>\n",
       "      <td>Age. Absence seizures are more common in child...</td>\n",
       "      <td>Certain factors are common to children who hav...</td>\n",
       "      <td>Age. Absence seizures are more common in child...</td>\n",
       "      <td>...</td>\n",
       "      <td>not found Prevention</td>\n",
       "      <td>not found Prevention</td>\n",
       "      <td>https://www.mayoclinic.org/diseases-conditions...</td>\n",
       "      <td>Absence seizure</td>\n",
       "      <td>An EEG records the electrical activity of your...</td>\n",
       "      <td>\\nElectroencephalography (EEG). This painless ...</td>\n",
       "      <td>Your doctor likely will start at the lowest do...</td>\n",
       "      <td>Ethosuximide (Zarontin). This is the drug most...</td>\n",
       "      <td>not found Medications</td>\n",
       "      <td>not found Medications</td>\n",
       "    </tr>\n",
       "  </tbody>\n",
       "</table>\n",
       "<p>5 rows × 22 columns</p>\n",
       "</div>"
      ],
      "text/plain": [
       "                    url_of_disease (symptoms-causes)  \\\n",
       "0  https://www.mayoclinic.org/diseases-conditions...   \n",
       "1  https://www.mayoclinic.org/diseases-conditions...   \n",
       "2  https://www.mayoclinic.org/diseases-conditions...   \n",
       "3  https://www.mayoclinic.org/diseases-conditions...   \n",
       "4  https://www.mayoclinic.org/diseases-conditions...   \n",
       "\n",
       "     name of symptoms-causes  \\\n",
       "0        Atrial fibrillation   \n",
       "1  Abdominal aortic aneurysm   \n",
       "2              Hyperhidrosis   \n",
       "3           Bartholin's cyst   \n",
       "4            Absence seizure   \n",
       "\n",
       "                                            Overview  \\\n",
       "0  In a typical heart rhythm, a tiny cluster of c...   \n",
       "1  An abdominal aortic aneurysm occurs when a low...   \n",
       "2  Hyperhidrosis (hi-pur-hi-DROE-sis) is abnormal...   \n",
       "3  The Bartholin's glands are located on each sid...   \n",
       "4  Absence seizures involve brief, sudden lapses ...   \n",
       "\n",
       "                                pragraph of Symptoms  \\\n",
       "0  Some people with atrial fibrillation (A-fib) d...   \n",
       "1  Abdominal aortic aneurysms often grow slowly w...   \n",
       "2  Most people sweat when they exercise or exert ...   \n",
       "3  If you have a small, noninfected Bartholin's c...   \n",
       "4  An indication of simple absence seizure is a v...   \n",
       "\n",
       "                                            Symptoms  \\\n",
       "0  Sensations of a fast, fluttering or pounding h...   \n",
       "1  Deep, constant pain in the belly area or side ...   \n",
       "2  Sweating disrupts your daily routine@$Sweating...   \n",
       "3  A tender, painful lump near the vaginal openin...   \n",
       "4  Sudden stop in motion without falling@$Lip sma...   \n",
       "\n",
       "                                When to see a doctor  \\\n",
       "0  If you have any signs or symptoms of atrial fi...   \n",
       "1  If you have pain, especially if pain is sudden...   \n",
       "2                     not found When to see a doctor   \n",
       "3  Call your doctor if you have a painful lump ne...   \n",
       "4                     not found When to see a doctor   \n",
       "\n",
       "                                  pragraph of Causes  \\\n",
       "0  To understand the causes of A-fib, it may be h...   \n",
       "1  Aneurysms can develop anywhere along the aorta...   \n",
       "2  Your skin has two types of sweat glands: eccri...   \n",
       "3  Experts believe that the cause of a Bartholin'...   \n",
       "4  Many children appear to have a genetic predisp...   \n",
       "\n",
       "                                              Causes  \\\n",
       "0  The signal travels from the sinus node through...   \n",
       "1  Hardening of the arteries (atherosclerosis). A...   \n",
       "2  Diabetes@$Menopause hot flashes@$Thyroid probl...   \n",
       "3                                                NaN   \n",
       "4  Age. Absence seizures are more common in child...   \n",
       "\n",
       "                            pragraph of Risk factors  \\\n",
       "0  Things that can increase the risk of atrial fi...   \n",
       "1  Abdominal aortic aneurysm risk factors include...   \n",
       "2                             not found Risk factors   \n",
       "3                             not found Risk factors   \n",
       "4  Certain factors are common to children who hav...   \n",
       "\n",
       "                                        Risk factors  ...  \\\n",
       "0  Age. The older a person is, the greater the ri...  ...   \n",
       "1  Tobacco use. Smoking is the strongest risk fac...  ...   \n",
       "2                             not found Risk factors  ...   \n",
       "3                             not found Risk factors  ...   \n",
       "4  Age. Absence seizures are more common in child...  ...   \n",
       "\n",
       "                              pragraph of Prevention  \\\n",
       "0  Healthy lifestyle choices can reduce the risk ...   \n",
       "1  To prevent an aortic aneurysm or keep an aorti...   \n",
       "2                               not found Prevention   \n",
       "3  There's no way to prevent a Bartholin's cyst. ...   \n",
       "4                               not found Prevention   \n",
       "\n",
       "                                          Prevention  \\\n",
       "0  Eat a nutritious diet@$Get regular exercise an...   \n",
       "1  Don't smoke or use tobacco products. Quit smok...   \n",
       "2                               not found Prevention   \n",
       "3                                                NaN   \n",
       "4                               not found Prevention   \n",
       "\n",
       "                url_of_disease (diagnosis-treatment)  \\\n",
       "0  https://www.mayoclinic.org/diseases-conditions...   \n",
       "1  https://www.mayoclinic.org/diseases-conditions...   \n",
       "2  https://www.mayoclinic.org/diseases-conditions...   \n",
       "3  https://www.mayoclinic.org/diseases-conditions...   \n",
       "4  https://www.mayoclinic.org/diseases-conditions...   \n",
       "\n",
       "  name of (diagnosis-treatment)  \\\n",
       "0           Atrial fibrillation   \n",
       "1     Abdominal aortic aneurysm   \n",
       "2                 Hyperhidrosis   \n",
       "3              Bartholin's cyst   \n",
       "4               Absence seizure   \n",
       "\n",
       "                               pragraph of Diagnosis  \\\n",
       "0  Some people are unaware that they have atrial ...   \n",
       "1  Abdominal aortic aneurysms are often found whe...   \n",
       "2  During your appointment, your doctor will ask ...   \n",
       "3  To diagnose a Bartholin's cyst, your doctor ma...   \n",
       "4  An EEG records the electrical activity of your...   \n",
       "\n",
       "                                           Diagnosis  \\\n",
       "0  Electrocardiogram (ECG or EKG). This quick and...   \n",
       "1  \\nAbdominal ultrasound. This is the most commo...   \n",
       "2  Prescription antiperspirant. Your doctor may p...   \n",
       "3  Ask questions about your medical history@$Perf...   \n",
       "4  \\nElectroencephalography (EEG). This painless ...   \n",
       "\n",
       "                               pragraph of Treatment  \\\n",
       "0  Treatment for atrial fibrillation depends on h...   \n",
       "1  The goal of abdominal aortic aneurysm treatmen...   \n",
       "2  If an underlying medical condition is contribu...   \n",
       "3  Often a Bartholin's cyst requires no treatment...   \n",
       "4  Your doctor likely will start at the lowest do...   \n",
       "\n",
       "                                           Treatment  \\\n",
       "0  Reset the heart rhythm@$Control the heart rate...   \n",
       "1  \\nEndovascular repair. This procedure is used ...   \n",
       "2  Prescription antiperspirant. Your doctor may p...   \n",
       "3  Sitz baths. Soaking in a tub filled with a few...   \n",
       "4  Ethosuximide (Zarontin). This is the drug most...   \n",
       "\n",
       "                             pragraph of Medications  \\\n",
       "0  You may be prescribed medications to control h...   \n",
       "1                              not found Medications   \n",
       "2  Drugs used to treat hyperhidrosis include:@$@$...   \n",
       "3                              not found Medications   \n",
       "4                              not found Medications   \n",
       "\n",
       "                                         Medications  \n",
       "0  Beta blockers. These medications can help slow...  \n",
       "1                              not found Medications  \n",
       "2  Prescription antiperspirant. Your doctor may p...  \n",
       "3                              not found Medications  \n",
       "4                              not found Medications  \n",
       "\n",
       "[5 rows x 22 columns]"
      ]
     },
     "execution_count": 86,
     "metadata": {},
     "output_type": "execute_result"
    }
   ],
   "source": [
    "df_diseases.head()"
   ]
  },
  {
   "cell_type": "markdown",
   "id": "a5abc081",
   "metadata": {},
   "source": [
    "#### View information of data"
   ]
  },
  {
   "cell_type": "code",
   "execution_count": 87,
   "id": "74daa802",
   "metadata": {},
   "outputs": [
    {
     "name": "stdout",
     "output_type": "stream",
     "text": [
      "<class 'pandas.core.frame.DataFrame'>\n",
      "RangeIndex: 1150 entries, 0 to 1149\n",
      "Data columns (total 22 columns):\n",
      " #   Column                                Non-Null Count  Dtype \n",
      "---  ------                                --------------  ----- \n",
      " 0   url_of_disease (symptoms-causes)      1150 non-null   object\n",
      " 1   name of symptoms-causes               1150 non-null   object\n",
      " 2   Overview                              1150 non-null   object\n",
      " 3   pragraph of Symptoms                  1150 non-null   object\n",
      " 4   Symptoms                              1134 non-null   object\n",
      " 5   When to see a doctor                  1149 non-null   object\n",
      " 6   pragraph of Causes                    1150 non-null   object\n",
      " 7   Causes                                1089 non-null   object\n",
      " 8   pragraph of Risk factors              1150 non-null   object\n",
      " 9   Risk factors                          1108 non-null   object\n",
      " 10  pragraph of Complications             1150 non-null   object\n",
      " 11  Complications                         1023 non-null   object\n",
      " 12  pragraph of Prevention                1150 non-null   object\n",
      " 13  Prevention                            1008 non-null   object\n",
      " 14  url_of_disease (diagnosis-treatment)  1150 non-null   object\n",
      " 15  name of (diagnosis-treatment)         1150 non-null   object\n",
      " 16  pragraph of Diagnosis                 1150 non-null   object\n",
      " 17  Diagnosis                             1143 non-null   object\n",
      " 18  pragraph of Treatment                 1150 non-null   object\n",
      " 19  Treatment                             1128 non-null   object\n",
      " 20  pragraph of Medications               1150 non-null   object\n",
      " 21  Medications                           1148 non-null   object\n",
      "dtypes: object(22)\n",
      "memory usage: 197.8+ KB\n"
     ]
    }
   ],
   "source": [
    "df_diseases.info()"
   ]
  },
  {
   "cell_type": "markdown",
   "id": "c5f7a8d5",
   "metadata": {},
   "source": [
    "#### View missing data"
   ]
  },
  {
   "cell_type": "code",
   "execution_count": 88,
   "id": "551af9ba",
   "metadata": {},
   "outputs": [
    {
     "data": {
      "text/plain": [
       "url_of_disease (symptoms-causes)          0\n",
       "name of symptoms-causes                   0\n",
       "Overview                                  0\n",
       "pragraph of Symptoms                      0\n",
       "Symptoms                                 16\n",
       "When to see a doctor                      1\n",
       "pragraph of Causes                        0\n",
       "Causes                                   61\n",
       "pragraph of Risk factors                  0\n",
       "Risk factors                             42\n",
       "pragraph of Complications                 0\n",
       "Complications                           127\n",
       "pragraph of Prevention                    0\n",
       "Prevention                              142\n",
       "url_of_disease (diagnosis-treatment)      0\n",
       "name of (diagnosis-treatment)             0\n",
       "pragraph of Diagnosis                     0\n",
       "Diagnosis                                 7\n",
       "pragraph of Treatment                     0\n",
       "Treatment                                22\n",
       "pragraph of Medications                   0\n",
       "Medications                               2\n",
       "dtype: int64"
      ]
     },
     "execution_count": 88,
     "metadata": {},
     "output_type": "execute_result"
    }
   ],
   "source": [
    "df_diseases.isnull().sum()"
   ]
  },
  {
   "cell_type": "markdown",
   "id": "60fc29f2",
   "metadata": {},
   "source": [
    "View missing data with ( 'not found' + name of column )"
   ]
  },
  {
   "cell_type": "code",
   "execution_count": 89,
   "id": "f6acbbc7",
   "metadata": {},
   "outputs": [
    {
     "name": "stdout",
     "output_type": "stream",
     "text": [
      "\n",
      "\n",
      " if not found : \n",
      " \n",
      "Symptoms :  38\n",
      "When to see a doctor :  240\n",
      "Causes :  46\n",
      "Risk factors :  214\n",
      "Complications :  275\n",
      "Prevention :  539\n",
      "Diagnosis :  46\n",
      "Medications :  852\n",
      "Treatment :  30\n",
      "Overview :  0\n",
      "pragraph of Symptoms :  38\n",
      "pragraph of Causes :  46\n",
      "pragraph of Risk factors :  214\n",
      "pragraph of Complications :  275\n",
      "pragraph of Prevention :  539\n",
      "pragraph of Diagnosis :  46\n",
      "pragraph of Medications :  852\n",
      "pragraph of Treatment :  30\n"
     ]
    }
   ],
   "source": [
    "print(\"\\n\\n if not found : \\n \")\n",
    "print(\"Symptoms : \",len(df_diseases[df_diseases[\"Symptoms\"] == \"not found Symptoms\"]))\n",
    "print(\"When to see a doctor : \",len(df_diseases[df_diseases[\"When to see a doctor\"] == \"not found When to see a doctor\"]))\n",
    "print(\"Causes : \",len(df_diseases[df_diseases[\"Causes\"] == \"not found Causes\"]))\n",
    "print(\"Risk factors : \",len(df_diseases[df_diseases[\"Risk factors\"] == \"not found Risk factors\"]))\n",
    "print(\"Complications : \",len(df_diseases[df_diseases[\"Complications\"] == \"not found Complications\"]))\n",
    "print(\"Prevention : \",len(df_diseases[df_diseases[\"Prevention\"] == \"not found Prevention\"]))\n",
    "print(\"Diagnosis : \",len(df_diseases[df_diseases[\"Diagnosis\"] == \"not found Diagnosis\"]))\n",
    "print(\"Medications : \",len(df_diseases[df_diseases[\"Medications\"] == \"not found Medications\"]))\n",
    "print(\"Treatment : \",len(df_diseases[df_diseases[\"Treatment\"] == \"not found Treatment\"]))\n",
    "\n",
    "print(\"Overview : \",len(df_diseases[df_diseases[\"Overview\"] == \"not found Overview\"]))\n",
    "print(\"pragraph of Symptoms : \",len(df_diseases[df_diseases[\"pragraph of Symptoms\"] == \"not found Symptoms\"]))\n",
    "print(\"pragraph of Causes : \",len(df_diseases[df_diseases[\"pragraph of Causes\"] == \"not found Causes\"]))\n",
    "print(\"pragraph of Risk factors : \",len(df_diseases[df_diseases[\"pragraph of Risk factors\"] == \"not found Risk factors\"]))\n",
    "print(\"pragraph of Complications : \",len(df_diseases[df_diseases[\"pragraph of Complications\"]  == \"not found Complications\"]))\n",
    "print(\"pragraph of Prevention : \",len(df_diseases[df_diseases[\"pragraph of Prevention\"] == \"not found Prevention\"]))\n",
    "print(\"pragraph of Diagnosis : \",len(df_diseases[df_diseases[\"pragraph of Diagnosis\"] == \"not found Diagnosis\"]))\n",
    "print(\"pragraph of Medications : \",len(df_diseases[df_diseases[\"pragraph of Medications\"] == \"not found Medications\"]))\n",
    "print(\"pragraph of Treatment : \",len(df_diseases[df_diseases[\"pragraph of Treatment\"] == \"not found Treatment\"]))"
   ]
  },
  {
   "cell_type": "markdown",
   "id": "93222b91",
   "metadata": {},
   "source": [
    "#### View duplicated data"
   ]
  },
  {
   "cell_type": "code",
   "execution_count": 90,
   "id": "a8020c6e",
   "metadata": {},
   "outputs": [
    {
     "data": {
      "text/plain": [
       "0"
      ]
     },
     "execution_count": 90,
     "metadata": {},
     "output_type": "execute_result"
    }
   ],
   "source": [
    "sum(df_diseases.duplicated())"
   ]
  },
  {
   "cell_type": "markdown",
   "id": "108d58b6",
   "metadata": {},
   "source": [
    "## Assess Data"
   ]
  },
  {
   "cell_type": "markdown",
   "id": "344e0fa2",
   "metadata": {},
   "source": [
    "### QUALTIY DIMENSIONS\n",
    "-  missing values ( nan ) in (Symptoms, When to see a doctor , Causes, Risk factors , Treatment , Diagnosis )\n",
    "-  missing values ( not found ) in (Symptoms, Causes ,  Diagnosis , Treatment )\n",
    "-  missing values ( not found ) in ( pragraph of Symptoms , pragraph of Causes , pragraph of Risk factors , pragraph of Diagnosis, pragraph of Treatment )\n",
    " "
   ]
  },
  {
   "cell_type": "markdown",
   "id": "16930d7c",
   "metadata": {},
   "source": [
    "### Tidiness\n",
    "- Drop column ( Complications , Prevention, pragraph of Complications, pragraph of Prevention , Medications , pragraph of Medications )\n"
   ]
  },
  {
   "cell_type": "markdown",
   "id": "5b9e270f",
   "metadata": {},
   "source": [
    "### Data Cleaning "
   ]
  },
  {
   "cell_type": "markdown",
   "id": "8fb1ed35",
   "metadata": {},
   "source": [
    "## Cleaning Of Data"
   ]
  },
  {
   "cell_type": "code",
   "execution_count": 91,
   "id": "c332a9eb",
   "metadata": {},
   "outputs": [],
   "source": [
    "#Copy of Data\n",
    "df_diseases_clean = df_diseases.copy()"
   ]
  },
  {
   "cell_type": "markdown",
   "id": "58d74b19",
   "metadata": {},
   "source": [
    "Define"
   ]
  },
  {
   "cell_type": "markdown",
   "id": "2aa4c132",
   "metadata": {},
   "source": [
    "#####  Drop column ( Complications , Prevention, pragraph of Complications, pragraph of Prevention , Medications , pragraph of Medications )"
   ]
  },
  {
   "cell_type": "markdown",
   "id": "85a0cb08",
   "metadata": {},
   "source": [
    "Code"
   ]
  },
  {
   "cell_type": "code",
   "execution_count": 92,
   "id": "82d17b3d",
   "metadata": {},
   "outputs": [],
   "source": [
    "df_diseases_clean.drop(columns=['Complications' , 'Prevention', 'Medications', 'pragraph of Complications',\n",
    "                                'pragraph of Prevention'  , 'pragraph of Medications']\n",
    "                               , axis=1, inplace=True)"
   ]
  },
  {
   "cell_type": "markdown",
   "id": "e50b306d",
   "metadata": {},
   "source": [
    "Test"
   ]
  },
  {
   "cell_type": "code",
   "execution_count": 93,
   "id": "9211494e",
   "metadata": {},
   "outputs": [
    {
     "name": "stdout",
     "output_type": "stream",
     "text": [
      "<class 'pandas.core.frame.DataFrame'>\n",
      "RangeIndex: 1150 entries, 0 to 1149\n",
      "Data columns (total 16 columns):\n",
      " #   Column                                Non-Null Count  Dtype \n",
      "---  ------                                --------------  ----- \n",
      " 0   url_of_disease (symptoms-causes)      1150 non-null   object\n",
      " 1   name of symptoms-causes               1150 non-null   object\n",
      " 2   Overview                              1150 non-null   object\n",
      " 3   pragraph of Symptoms                  1150 non-null   object\n",
      " 4   Symptoms                              1134 non-null   object\n",
      " 5   When to see a doctor                  1149 non-null   object\n",
      " 6   pragraph of Causes                    1150 non-null   object\n",
      " 7   Causes                                1089 non-null   object\n",
      " 8   pragraph of Risk factors              1150 non-null   object\n",
      " 9   Risk factors                          1108 non-null   object\n",
      " 10  url_of_disease (diagnosis-treatment)  1150 non-null   object\n",
      " 11  name of (diagnosis-treatment)         1150 non-null   object\n",
      " 12  pragraph of Diagnosis                 1150 non-null   object\n",
      " 13  Diagnosis                             1143 non-null   object\n",
      " 14  pragraph of Treatment                 1150 non-null   object\n",
      " 15  Treatment                             1128 non-null   object\n",
      "dtypes: object(16)\n",
      "memory usage: 143.9+ KB\n"
     ]
    }
   ],
   "source": [
    "df_diseases_clean.info()"
   ]
  },
  {
   "cell_type": "markdown",
   "id": "9f754651",
   "metadata": {},
   "source": [
    "Define"
   ]
  },
  {
   "cell_type": "markdown",
   "id": "ecb4bbfe",
   "metadata": {},
   "source": [
    "#### Fixing columns that contain of nan values\n",
    "     ( Symptoms, When to see a doctor , Causes, Risk factors , Treatment , Diagnosis )\n",
    " \n",
    "      Fill nan value in columns by ( 'not found of' + name of column )"
   ]
  },
  {
   "cell_type": "markdown",
   "id": "7eea6130",
   "metadata": {},
   "source": [
    "Code"
   ]
  },
  {
   "cell_type": "code",
   "execution_count": 94,
   "id": "c75b6ad1",
   "metadata": {},
   "outputs": [],
   "source": [
    "df_diseases_clean['Symptoms'].fillna('not found Symptoms',inplace = True)\n",
    "df_diseases_clean['When to see a doctor'].fillna('not found When to see a doctor',inplace = True)\n",
    "df_diseases_clean['Causes'].fillna('not found Causes',inplace = True)\n",
    "df_diseases_clean['Risk factors'].fillna('not found Risk factors',inplace = True)\n",
    "df_diseases_clean['Treatment'].fillna('not found Treatment',inplace = True)\n",
    "df_diseases_clean['Diagnosis'].fillna('not found Diagnosis',inplace = True)"
   ]
  },
  {
   "cell_type": "markdown",
   "id": "5b64a2f9",
   "metadata": {},
   "source": [
    "Test"
   ]
  },
  {
   "cell_type": "markdown",
   "id": "c41679f8",
   "metadata": {},
   "source": [
    "To show missing values in data set"
   ]
  },
  {
   "cell_type": "code",
   "execution_count": 95,
   "id": "285db623",
   "metadata": {},
   "outputs": [
    {
     "data": {
      "text/plain": [
       "url_of_disease (symptoms-causes)        0\n",
       "name of symptoms-causes                 0\n",
       "Overview                                0\n",
       "pragraph of Symptoms                    0\n",
       "Symptoms                                0\n",
       "When to see a doctor                    0\n",
       "pragraph of Causes                      0\n",
       "Causes                                  0\n",
       "pragraph of Risk factors                0\n",
       "Risk factors                            0\n",
       "url_of_disease (diagnosis-treatment)    0\n",
       "name of (diagnosis-treatment)           0\n",
       "pragraph of Diagnosis                   0\n",
       "Diagnosis                               0\n",
       "pragraph of Treatment                   0\n",
       "Treatment                               0\n",
       "dtype: int64"
      ]
     },
     "execution_count": 95,
     "metadata": {},
     "output_type": "execute_result"
    }
   ],
   "source": [
    "df_diseases_clean.isnull().sum()"
   ]
  },
  {
   "cell_type": "code",
   "execution_count": 96,
   "id": "da4f4e95",
   "metadata": {},
   "outputs": [
    {
     "name": "stdout",
     "output_type": "stream",
     "text": [
      "<class 'pandas.core.frame.DataFrame'>\n",
      "RangeIndex: 1150 entries, 0 to 1149\n",
      "Data columns (total 16 columns):\n",
      " #   Column                                Non-Null Count  Dtype \n",
      "---  ------                                --------------  ----- \n",
      " 0   url_of_disease (symptoms-causes)      1150 non-null   object\n",
      " 1   name of symptoms-causes               1150 non-null   object\n",
      " 2   Overview                              1150 non-null   object\n",
      " 3   pragraph of Symptoms                  1150 non-null   object\n",
      " 4   Symptoms                              1150 non-null   object\n",
      " 5   When to see a doctor                  1150 non-null   object\n",
      " 6   pragraph of Causes                    1150 non-null   object\n",
      " 7   Causes                                1150 non-null   object\n",
      " 8   pragraph of Risk factors              1150 non-null   object\n",
      " 9   Risk factors                          1150 non-null   object\n",
      " 10  url_of_disease (diagnosis-treatment)  1150 non-null   object\n",
      " 11  name of (diagnosis-treatment)         1150 non-null   object\n",
      " 12  pragraph of Diagnosis                 1150 non-null   object\n",
      " 13  Diagnosis                             1150 non-null   object\n",
      " 14  pragraph of Treatment                 1150 non-null   object\n",
      " 15  Treatment                             1150 non-null   object\n",
      "dtypes: object(16)\n",
      "memory usage: 143.9+ KB\n"
     ]
    }
   ],
   "source": [
    "df_diseases_clean.info()"
   ]
  },
  {
   "cell_type": "markdown",
   "id": "669c1472",
   "metadata": {},
   "source": [
    "View missing data with ( 'not found' + name of column )"
   ]
  },
  {
   "cell_type": "code",
   "execution_count": 97,
   "id": "97fb269f",
   "metadata": {},
   "outputs": [
    {
     "name": "stdout",
     "output_type": "stream",
     "text": [
      "\n",
      "\n",
      " if not found : \n",
      " \n",
      "Symptoms :  54\n",
      "When to see a doctor :  241\n",
      "Causes :  107\n",
      "Risk factors :  256\n",
      "Diagnosis :  53\n",
      "Treatment :  52\n",
      "Overview :  0\n",
      "pragraph of Symptoms :  38\n",
      "pragraph of Causes :  46\n",
      "pragraph of Risk factors :  214\n",
      "pragraph of Diagnosis :  46\n",
      "pragraph of Treatment :  30\n"
     ]
    }
   ],
   "source": [
    "print(\"\\n\\n if not found : \\n \")\n",
    "print(\"Symptoms : \",len(df_diseases_clean[df_diseases_clean[\"Symptoms\"] == \"not found Symptoms\"]))\n",
    "print(\"When to see a doctor : \",len(df_diseases_clean[df_diseases_clean[\"When to see a doctor\"] == \"not found When to see a doctor\"]))\n",
    "print(\"Causes : \",len(df_diseases_clean[df_diseases_clean[\"Causes\"] == \"not found Causes\"]))\n",
    "print(\"Risk factors : \",len(df_diseases_clean[df_diseases_clean[\"Risk factors\"] == \"not found Risk factors\"]))\n",
    "print(\"Diagnosis : \",len(df_diseases_clean[df_diseases_clean[\"Diagnosis\"] == \"not found Diagnosis\"]))\n",
    "print(\"Treatment : \",len(df_diseases_clean[df_diseases_clean[\"Treatment\"] == \"not found Treatment\"]))\n",
    "print(\"Overview : \",len(df_diseases_clean[df_diseases_clean[\"Overview\"] == \"not found Overview\"]))\n",
    "print(\"pragraph of Symptoms : \",len(df_diseases_clean[df_diseases_clean[\"pragraph of Symptoms\"] == \"not found Symptoms\"]))\n",
    "print(\"pragraph of Causes : \",len(df_diseases_clean[df_diseases_clean[\"pragraph of Causes\"] == \"not found Causes\"]))\n",
    "print(\"pragraph of Risk factors : \",len(df_diseases_clean[df_diseases_clean[\"pragraph of Risk factors\"] == \"not found Risk factors\"]))\n",
    "print(\"pragraph of Diagnosis : \",len(df_diseases_clean[df_diseases_clean[\"pragraph of Diagnosis\"] == \"not found Diagnosis\"]))\n",
    "print(\"pragraph of Treatment : \",len(df_diseases_clean[df_diseases_clean[\"pragraph of Treatment\"] == \"not found Treatment\"]))"
   ]
  },
  {
   "cell_type": "markdown",
   "id": "effabacc",
   "metadata": {},
   "source": [
    "Define"
   ]
  },
  {
   "cell_type": "markdown",
   "id": "ae73043c",
   "metadata": {},
   "source": [
    "####  Drop rows that   (Symptoms == \"not found Symptoms\" or Causes == \"not found Causes\" or  Diagnosis == \"not found Diagnosis\" or  Treatment == \"not found Treatment\")"
   ]
  },
  {
   "cell_type": "markdown",
   "id": "bf745ee9",
   "metadata": {},
   "source": [
    "Code"
   ]
  },
  {
   "cell_type": "code",
   "execution_count": 65,
   "id": "fd104026",
   "metadata": {},
   "outputs": [],
   "source": [
    "df_diseases_clean = df_diseases_clean[\n",
    "    ~((df_diseases_clean['Symptoms'] == \"not found Symptoms\") | (df_diseases_clean['Causes']== \"not found Causes\") | \n",
    "      (df_diseases_clean['Diagnosis'] == \"not found Diagnosis\") | (df_diseases_clean['Treatment']==\"not found Treatment\")\n",
    "     |(df_diseases_clean['When to see a doctor'] == \"not found When to see a doctor\") | (df_diseases_clean['Risk factors']==\"not found Risk factors\") )]\n"
   ]
  },
  {
   "cell_type": "markdown",
   "id": "e30639e8",
   "metadata": {},
   "source": [
    "Test"
   ]
  },
  {
   "cell_type": "code",
   "execution_count": 66,
   "id": "d427d9b2",
   "metadata": {},
   "outputs": [
    {
     "name": "stdout",
     "output_type": "stream",
     "text": [
      "\n",
      "\n",
      " if not found : \n",
      " \n",
      "Symptoms :  0\n",
      "When to see a doctor :  0\n",
      "Causes :  0\n",
      "Risk factors :  0\n",
      "Diagnosis :  0\n",
      "Treatment :  0\n",
      "Overview :  0\n",
      "pragraph of Symptoms :  0\n",
      "pragraph of Causes :  0\n",
      "pragraph of Risk factors :  0\n",
      "pragraph of Diagnosis :  0\n",
      "pragraph of Treatment :  0\n"
     ]
    }
   ],
   "source": [
    "print(\"\\n\\n if not found : \\n \")\n",
    "print(\"Symptoms : \",len(df_diseases_clean[df_diseases_clean[\"Symptoms\"] == \"not found Symptoms\"]))\n",
    "print(\"When to see a doctor : \",len(df_diseases_clean[df_diseases_clean[\"When to see a doctor\"] == \"not found When to see a doctor\"]))\n",
    "print(\"Causes : \",len(df_diseases_clean[df_diseases_clean[\"Causes\"] == \"not found Causes\"]))\n",
    "print(\"Risk factors : \",len(df_diseases_clean[df_diseases_clean[\"Risk factors\"] == \"not found Risk factors\"]))\n",
    "print(\"Diagnosis : \",len(df_diseases_clean[df_diseases_clean[\"Diagnosis\"] == \"not found Diagnosis\"]))\n",
    "print(\"Treatment : \",len(df_diseases_clean[df_diseases_clean[\"Treatment\"] == \"not found Treatment\"]))\n",
    "print(\"Overview : \",len(df_diseases_clean[df_diseases_clean[\"Overview\"] == \"not found Overview\"]))\n",
    "print(\"pragraph of Symptoms : \",len(df_diseases_clean[df_diseases_clean[\"pragraph of Symptoms\"] == \"not found Symptoms\"]))\n",
    "print(\"pragraph of Causes : \",len(df_diseases_clean[df_diseases_clean[\"pragraph of Causes\"] == \"not found Causes\"]))\n",
    "print(\"pragraph of Risk factors : \",len(df_diseases_clean[df_diseases_clean[\"pragraph of Risk factors\"] == \"not found Risk factors\"]))\n",
    "print(\"pragraph of Diagnosis : \",len(df_diseases_clean[df_diseases_clean[\"pragraph of Diagnosis\"] == \"not found Diagnosis\"]))\n",
    "print(\"pragraph of Treatment : \",len(df_diseases_clean[df_diseases_clean[\"pragraph of Treatment\"] == \"not found Treatment\"]))"
   ]
  },
  {
   "cell_type": "code",
   "execution_count": 67,
   "id": "0a160fb7",
   "metadata": {},
   "outputs": [
    {
     "name": "stdout",
     "output_type": "stream",
     "text": [
      " Now after performing these operations, the number of diseases becomes:  724\n"
     ]
    }
   ],
   "source": [
    "print(\" Now after performing these operations, the number of diseases becomes: \", len(df_diseases_clean))"
   ]
  },
  {
   "cell_type": "markdown",
   "id": "43b195b1",
   "metadata": {},
   "source": [
    "## Store Of Dataset Diseases_master"
   ]
  },
  {
   "cell_type": "code",
   "execution_count": 68,
   "id": "8af6a94c",
   "metadata": {},
   "outputs": [],
   "source": [
    "df_diseases_clean.to_csv('Diseases_master.csv', index = False)"
   ]
  },
  {
   "cell_type": "markdown",
   "id": "81560bc3",
   "metadata": {},
   "source": [
    "<a id='eda'></a>\n",
    "## Exploratory Data Analysis"
   ]
  },
  {
   "cell_type": "markdown",
   "id": "bbc60839",
   "metadata": {},
   "source": [
    "- What are the top 10 symptoms that accompany most diseases?"
   ]
  },
  {
   "cell_type": "markdown",
   "id": "50c573df",
   "metadata": {},
   "source": [
    "### Visual between Number of repeat of symptom and Diseases"
   ]
  },
  {
   "cell_type": "code",
   "execution_count": 69,
   "id": "cb1f6cd0",
   "metadata": {},
   "outputs": [
    {
     "name": "stdout",
     "output_type": "stream",
     "text": [
      "5975\n"
     ]
    }
   ],
   "source": [
    "list_symptoms = []\n",
    "for symptoms in df_diseases_clean['Symptoms']:\n",
    "    list_symptoms = list_symptoms + symptoms.split(\"@$\")\n",
    "print(len(list_symptoms))"
   ]
  },
  {
   "cell_type": "code",
   "execution_count": 70,
   "id": "ad5943f8",
   "metadata": {},
   "outputs": [
    {
     "name": "stderr",
     "output_type": "stream",
     "text": [
      "C:\\Users\\Fady\\Anaconda3\\lib\\site-packages\\pandas\\core\\strings\\accessor.py:101: UserWarning: This pattern has match groups. To actually get the groups, use str.extract.\n",
      "  return func(self, *args, **kwargs)\n"
     ]
    }
   ],
   "source": [
    "list_symptoms = list(set(list_symptoms))  #list of genre\n",
    "dict_symptoms = {}\n",
    "for symptom in list_symptoms:\n",
    "    dict_symptoms[symptom] = len(df_diseases_clean[df_diseases_clean['Symptoms'].str.contains(symptom)])"
   ]
  },
  {
   "cell_type": "code",
   "execution_count": 71,
   "id": "5723462d",
   "metadata": {},
   "outputs": [
    {
     "name": "stdout",
     "output_type": "stream",
     "text": [
      "3909\n"
     ]
    }
   ],
   "source": [
    "lst = []\n",
    "dict_symptoms_new = {}\n",
    "for  symptom , number_value in dict_symptoms.items():\n",
    "       if symptom != \"\" and symptom[-1] == '.' and symptom[:-1] in dict_symptoms_new.keys():\n",
    "           dict_symptoms_new[symptom[:-1]] = dict_symptoms_new[symptom[:-1]] + number_value\n",
    "           lst = lst + [symptom]\n",
    "       elif symptom != \"\" and symptom[-1] == '.':\n",
    "           dict_symptoms_new[symptom[:-1]] = number_value\n",
    "       elif symptom != \"\":\n",
    "           dict_symptoms_new[symptom] = number_value\n",
    "print(len(dict_symptoms_new)) "
   ]
  },
  {
   "cell_type": "code",
   "execution_count": 72,
   "id": "58e4cec6",
   "metadata": {},
   "outputs": [
    {
     "data": {
      "text/plain": [
       "('Pain', 132)"
      ]
     },
     "execution_count": 72,
     "metadata": {},
     "output_type": "execute_result"
    }
   ],
   "source": [
    "# to extract genre by using high revenue\n",
    "high_repeat_value = max(dict_symptoms_new.values())\n",
    "high_repeat_symptom = ''\n",
    "for symptom , number_value in dict_symptoms_new.items():\n",
    "    if high_repeat_value == number_value:\n",
    "        high_repeat_symptom = symptom\n",
    "        break    \n",
    "high_repeat_symptom , high_repeat_value"
   ]
  },
  {
   "cell_type": "code",
   "execution_count": 73,
   "id": "6e291bb6",
   "metadata": {},
   "outputs": [],
   "source": [
    "dict_revenue_genre = dict(sorted(dict_symptoms_new.items(), key=lambda item: item[1],reverse=True))"
   ]
  },
  {
   "cell_type": "code",
   "execution_count": 74,
   "id": "cf39267b",
   "metadata": {},
   "outputs": [
    {
     "data": {
      "image/png": "[encoded data removed]",
      "text/plain": [
       "<Figure size 1152x648 with 1 Axes>"
      ]
     },
     "metadata": {
      "needs_background": "light"
     },
     "output_type": "display_data"
    },
    {
     "data": {
      "text/plain": [
       "{'Pain': 132,\n",
       " 'Fatigue': 117,\n",
       " 'Fever': 103,\n",
       " 'Nausea': 99,\n",
       " 'Shortness of breath': 87,\n",
       " 'Headache': 81,\n",
       " 'Swelling': 76,\n",
       " 'Nausea and vomiting': 66,\n",
       " 'Chest': 64,\n",
       " 'Itch': 50}"
      ]
     },
     "execution_count": 74,
     "metadata": {},
     "output_type": "execute_result"
    }
   ],
   "source": [
    "fig, ax =  plt.subplots(figsize =(16, 9)) \n",
    "dict_symptoms = dict(sorted(dict_symptoms_new.items(), key=lambda item: item[1],reverse=True))\n",
    "dict_seaborn ={}\n",
    "i = 0\n",
    "for  symptom , number_value in dict_symptoms.items():\n",
    "    dict_seaborn[symptom] =number_value\n",
    "    i+=1\n",
    "    if i ==10:\n",
    "        break\n",
    "seaborn.barplot(x=list(dict_seaborn.keys()),y=list(dict_seaborn.values()))\n",
    "plt.xlabel('Number of repeat of symptom', fontsize=15)\n",
    "plt.ylabel('Diseases', fontsize=15)\n",
    "fig.suptitle('Visual between Number of repeat of symptom and Diseases', fontsize=20)\n",
    "plt.show()\n",
    "dict_seaborn"
   ]
  },
  {
   "cell_type": "code",
   "execution_count": 75,
   "id": "201ec3d2",
   "metadata": {},
   "outputs": [
    {
     "data": {
      "image/png": "[encoded data removed]",
      "text/plain": [
       "<Figure size 792x432 with 1 Axes>"
      ]
     },
     "metadata": {},
     "output_type": "display_data"
    }
   ],
   "source": [
    "labels = dict_seaborn.keys()\n",
    "sizes = dict_seaborn.values()\n",
    "\n",
    "fig1, ax = plt.subplots(figsize=(11,6))\n",
    "fig1.subplots_adjust(0.3,0,1,1)\n",
    "\n",
    "theme = plt.get_cmap('Reds')\n",
    "ax.set_prop_cycle(\"color\", [theme(1. * i / len(sizes)) for i in range(len(sizes))])\n",
    "ax.pie(sizes, labels=labels)\n",
    "ax.axis('equal')\n",
    "total = sum(sizes)\n",
    "plt.legend(\n",
    "    loc='upper left',\n",
    "    labels=['%s, %1.1f%%' % (\n",
    "        l, (float(s) / total) * 100) for l, s in zip(labels, sizes)],\n",
    "    prop={'size': 12},\n",
    "    bbox_to_anchor=(0.0, 1),\n",
    "    bbox_transform=fig1.transFigure\n",
    ")\n",
    "plt.title('Visual between Number of repeat of symptom and Diseases', fontsize=20)\n",
    "plt.show()"
   ]
  },
  {
   "cell_type": "code",
   "execution_count": 76,
   "id": "0dcb94d3",
   "metadata": {},
   "outputs": [
    {
     "data": {
      "image/png": "[encoded data removed]",
      "text/plain": [
       "<Figure size 1152x648 with 1 Axes>"
      ]
     },
     "metadata": {
      "needs_background": "light"
     },
     "output_type": "display_data"
    }
   ],
   "source": [
    "dict_seaborn ={}\n",
    "i = 0\n",
    "for  symptom , number_value in dict_symptoms.items():\n",
    "    dict_seaborn[symptom] =number_value\n",
    "    i+=1\n",
    "    if i ==30:\n",
    "        break\n",
    "\n",
    "symptom = list(dict_seaborn.keys())\n",
    "number_value = list(dict_seaborn.values())\n",
    "  \n",
    "fig, ax = plt.subplots(figsize =(16, 9)) \n",
    "ax.barh(symptom, number_value) \n",
    "  \n",
    "for s in ['top', 'bottom', 'left', 'right']: \n",
    "    ax.spines[s].set_visible(False) \n",
    "ax.xaxis.set_ticks_position('none') \n",
    "ax.yaxis.set_ticks_position('none') \n",
    "  \n",
    "ax.xaxis.set_tick_params(pad = 5) \n",
    "ax.yaxis.set_tick_params(pad = 10) \n",
    "  \n",
    "ax.grid(b = True, color ='grey', \n",
    "        linestyle ='-.', linewidth = 0.5, \n",
    "        alpha = 0.2) \n",
    "\n",
    "ax.invert_yaxis() \n",
    "  \n",
    "for i in ax.patches: \n",
    "    plt.text(i.get_width()+0.2, i.get_y()+0.5,  \n",
    "             str(round((i.get_width()), 2)), \n",
    "             fontsize = 10, fontweight ='bold', \n",
    "             color ='grey') \n",
    "    \n",
    "plt.xlabel('Number of repeat of symptom', fontsize=15)\n",
    "plt.ylabel('Diseases', fontsize=15)\n",
    "fig.suptitle('Visual between Number of repeat of symptom and Diseases', fontsize=20)\n",
    "# Show Plot \n",
    "plt.show() "
   ]
  },
  {
   "cell_type": "markdown",
   "id": "c323f4b5",
   "metadata": {},
   "source": [
    "- Answer: We note from the plot that these symptoms ('Pain': Where it comes with 132 a disease , 'Fatigue': Where it comes with 117 a disease, 'Fever': Where it comes with 103 a disease , 'Nausea' ,\n",
    " 'Shortness of breath', 'Headache, 'Swelling',  etc ...) are the most common symptoms associated with the emergence of most diseases."
   ]
  },
  {
   "cell_type": "markdown",
   "id": "8a1e736c",
   "metadata": {},
   "source": [
    "- What are the top 10 risk factors associated with most diseases?"
   ]
  },
  {
   "cell_type": "markdown",
   "id": "ee5d4f02",
   "metadata": {},
   "source": [
    "### Visual between Number of repeat of Risk Factors and Diseases"
   ]
  },
  {
   "cell_type": "code",
   "execution_count": 77,
   "id": "10d46bc4",
   "metadata": {},
   "outputs": [],
   "source": [
    "list_risk_factors = []\n",
    "for risk_factors in df_diseases_clean['Risk factors']:\n",
    "    list_risk_factors = list_risk_factors + risk_factors.split(\"@$\")"
   ]
  },
  {
   "cell_type": "code",
   "execution_count": 78,
   "id": "8cc8fe4a",
   "metadata": {},
   "outputs": [
    {
     "name": "stderr",
     "output_type": "stream",
     "text": [
      "C:\\Users\\Fady\\Anaconda3\\lib\\site-packages\\pandas\\core\\strings\\accessor.py:101: UserWarning: This pattern has match groups. To actually get the groups, use str.extract.\n",
      "  return func(self, *args, **kwargs)\n"
     ]
    }
   ],
   "source": [
    "list_risk_factors = list(set(list_risk_factors))  #list of genre\n",
    "dict_risk_factors = {}\n",
    "for risk_factor in list_risk_factors:\n",
    "    dict_risk_factors[risk_factor] = len(df_diseases_clean[df_diseases_clean['Risk factors'].str.contains(risk_factor)])"
   ]
  },
  {
   "cell_type": "code",
   "execution_count": 79,
   "id": "146ca554",
   "metadata": {},
   "outputs": [
    {
     "name": "stdout",
     "output_type": "stream",
     "text": [
      "Female sex.\n",
      "3632\n"
     ]
    }
   ],
   "source": [
    "dict_risk_factor_new = {}\n",
    "for  risk_factor , number_value in dict_risk_factors.items():\n",
    "       if risk_factor != \"\" and risk_factor[-1] == '.' and risk_factor[:-1] in dict_risk_factor_new.keys():\n",
    "           dict_risk_factor_new[risk_factor[:-1]] = dict_risk_factor_new[risk_factor[:-1]] + number_value\n",
    "           print(risk_factor)\n",
    "       elif risk_factor != \"\" and risk_factor[-1] == '.':\n",
    "           dict_risk_factor_new[risk_factor[:-1]] = number_value\n",
    "       elif risk_factor != \"\":\n",
    "           dict_risk_factor_new[risk_factor] = number_value\n",
    "print(len(dict_risk_factor_new))"
   ]
  },
  {
   "cell_type": "code",
   "execution_count": 80,
   "id": "211fd5e0",
   "metadata": {},
   "outputs": [
    {
     "data": {
      "text/plain": [
       "('', 145)"
      ]
     },
     "execution_count": 80,
     "metadata": {},
     "output_type": "execute_result"
    }
   ],
   "source": [
    "# to extract genre by using high revenue\n",
    "high_repeat_value = max(dict_risk_factor_new.values())\n",
    "high_repeat_risk_factor = ''\n",
    "for risk_factor , number_value in dict_symptoms_new.items():\n",
    "    if high_repeat_value == number_value:\n",
    "        high_repeat_risk_factor = risk_factor\n",
    "        break    \n",
    "high_repeat_risk_factor , high_repeat_value"
   ]
  },
  {
   "cell_type": "code",
   "execution_count": 81,
   "id": "ce10d33b",
   "metadata": {},
   "outputs": [],
   "source": [
    "dict_risk_factor_new = dict(sorted(dict_risk_factor_new.items(), key=lambda item: item[1],reverse=True))"
   ]
  },
  {
   "cell_type": "code",
   "execution_count": 82,
   "id": "3fceac5b",
   "metadata": {},
   "outputs": [
    {
     "data": {
      "image/png": "[encoded data removed]",
      "text/plain": [
       "<Figure size 1152x648 with 1 Axes>"
      ]
     },
     "metadata": {
      "needs_background": "light"
     },
     "output_type": "display_data"
    },
    {
     "data": {
      "text/plain": [
       "{'Age': 145,\n",
       " 'Smoking': 92,\n",
       " 'Obesity': 69,\n",
       " 'Diabetes': 55,\n",
       " 'High blood pressure': 44,\n",
       " 'Older age': 41,\n",
       " 'Heart': 35,\n",
       " 'Asia': 33,\n",
       " 'Alcohol': 31,\n",
       " 'Being overweight': 27}"
      ]
     },
     "execution_count": 82,
     "metadata": {},
     "output_type": "execute_result"
    }
   ],
   "source": [
    "fig, ax =  plt.subplots(figsize =(16, 9)) \n",
    "dict_seaborn ={}\n",
    "i = 0\n",
    "for  risk_factor , number_value in dict_risk_factor_new.items():\n",
    "    dict_seaborn[risk_factor] =number_value\n",
    "    i+=1\n",
    "    if i ==10:\n",
    "        break\n",
    "seaborn.barplot(x=list(dict_seaborn.keys()),y=list(dict_seaborn.values()))\n",
    "plt.xlabel('Number of repeat of Risk factor', fontsize=15)\n",
    "plt.ylabel('Diseases', fontsize=15)\n",
    "fig.suptitle('Visual between Number of repeat of risk factor and Diseases', fontsize=20)\n",
    "plt.show()\n",
    "dict_seaborn"
   ]
  },
  {
   "cell_type": "code",
   "execution_count": 83,
   "id": "83d809c6",
   "metadata": {},
   "outputs": [
    {
     "data": {
      "image/png": "[encoded data removed]",
      "text/plain": [
       "<Figure size 792x432 with 1 Axes>"
      ]
     },
     "metadata": {},
     "output_type": "display_data"
    }
   ],
   "source": [
    "labels = dict_seaborn.keys()\n",
    "sizes = dict_seaborn.values()\n",
    "\n",
    "fig1, ax1 = plt.subplots(figsize=(11,6))\n",
    "fig1.subplots_adjust(0.3,0,1,1)\n",
    "\n",
    "theme = plt.get_cmap('Reds')\n",
    "ax1.set_prop_cycle(\"color\", [theme(1. * i / len(sizes)) for i in range(len(sizes))])\n",
    "ax1.pie(sizes, labels=labels)\n",
    "ax1.axis('equal')\n",
    "total = sum(sizes)\n",
    "plt.legend(\n",
    "    loc='upper left',\n",
    "    labels=['%s, %1.1f%%' % (\n",
    "        l, (float(s) / total) * 100) for l, s in zip(labels, sizes)],\n",
    "    prop={'size': 12},\n",
    "    bbox_to_anchor=(0.0, 1),\n",
    "    bbox_transform=fig1.transFigure\n",
    ")\n",
    "plt.title('Visual between Number of repeat of risk factor and Diseases', fontsize=20)\n",
    "plt.show()"
   ]
  },
  {
   "cell_type": "code",
   "execution_count": 84,
   "id": "5e584c7b",
   "metadata": {},
   "outputs": [
    {
     "data": {
      "image/png": "[encoded data removed]",
      "text/plain": [
       "<Figure size 1152x648 with 1 Axes>"
      ]
     },
     "metadata": {
      "needs_background": "light"
     },
     "output_type": "display_data"
    }
   ],
   "source": [
    "dict_seaborn ={}\n",
    "i = 0\n",
    "for  risk_factor , number_value in dict_risk_factor_new.items():\n",
    "    dict_seaborn[risk_factor] =number_value\n",
    "    i+=1\n",
    "    if i ==30:\n",
    "        break\n",
    "\n",
    "risk_factor = list(dict_seaborn.keys())\n",
    "number_value = list(dict_seaborn.values())\n",
    "  \n",
    "fig, ax = plt.subplots(figsize =(16, 9)) \n",
    "ax.barh(risk_factor, number_value) \n",
    "  \n",
    "for s in ['top', 'bottom', 'left', 'right']: \n",
    "    ax.spines[s].set_visible(False) \n",
    "ax.xaxis.set_ticks_position('none') \n",
    "ax.yaxis.set_ticks_position('none') \n",
    "  \n",
    "ax.xaxis.set_tick_params(pad = 5) \n",
    "ax.yaxis.set_tick_params(pad = 10) \n",
    "  \n",
    "ax.grid(b = True, color ='grey', \n",
    "        linestyle ='-.', linewidth = 0.5, \n",
    "        alpha = 0.2) \n",
    "\n",
    "ax.invert_yaxis() \n",
    "  \n",
    "for i in ax.patches: \n",
    "    plt.text(i.get_width()+0.2, i.get_y()+0.5,  \n",
    "             str(round((i.get_width()), 2)), \n",
    "             fontsize = 10, fontweight ='bold', \n",
    "             color ='grey') \n",
    "    \n",
    "plt.xlabel('Number of repeat of Risk factor', fontsize=15)\n",
    "plt.ylabel('Diseases', fontsize=15)\n",
    "fig.suptitle('Visual between Number of repeat of risk factor and Diseases', fontsize=20)\n",
    "# Show Plot \n",
    "plt.show() "
   ]
  },
  {
   "cell_type": "markdown",
   "id": "3aa69134",
   "metadata": {},
   "source": [
    "- Answer: We note from the plot that these risk factors ('Age': Where it comes with 145 a disease, 'Smoking': Where it comes with 92 a disease, 'Obesity': Where it comes with 69 a disease, 'Diabetes': Where it comes with 55 a disease, 'High blood pressure': Where it comes with 44 a disease, 'Older age' ,  'Heart' ,  'Asia' , etc ... ) are the most common  risk factors associated with the emergence of most diseases."
   ]
  },
  {
   "cell_type": "markdown",
   "id": "68794c1b",
   "metadata": {},
   "source": [
    "<a id='conclusions'></a>\n",
    "## Conclusions\n",
    "\n",
    "> "
   ]
  },
  {
   "cell_type": "markdown",
   "id": "142ce56a",
   "metadata": {},
   "source": [
    "- Now, after completing the process of scraping a site (https://www.mayoclinic.org/) and  Create a database of diseases and data about them, and then we carried out a cleaning process for that data to become more efficient and accurate, and we were able to find out What are the top 10 symptoms that accompanies most diseases And It came in first place symptoms associated with most diseases are ( Pain ), and we were able to find out What are the top 10 risk factors that accompanies most diseases And It came in first place risk factors associated with most diseases are ( Age )  After all, the database is ready for use and extract information from it.\n"
   ]
  }
 ],
 "metadata": {
  "kernelspec": {
   "display_name": "Python 3 (ipykernel)",
   "language": "python",
   "name": "python3"
  },
  "language_info": {
   "codemirror_mode": {
    "name": "ipython",
    "version": 3
   },
   "file_extension": ".py",
   "mimetype": "text/x-python",
   "name": "python",
   "nbconvert_exporter": "python",
   "pygments_lexer": "ipython3",
   "version": "3.9.7"
  }
 },
 "nbformat": 4,
 "nbformat_minor": 5
}
